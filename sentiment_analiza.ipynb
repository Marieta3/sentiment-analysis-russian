{
  "nbformat": 4,
  "nbformat_minor": 0,
  "metadata": {
    "colab": {
      "name": "sentiment_analiza.ipynb",
      "version": "0.3.2",
      "provenance": [],
      "toc_visible": true,
      "include_colab_link": true
    },
    "kernelspec": {
      "name": "python3",
      "display_name": "Python 3"
    },
    "accelerator": "TPU"
  },
  "cells": [
    {
      "cell_type": "markdown",
      "metadata": {
        "id": "view-in-github",
        "colab_type": "text"
      },
      "source": [
        "<a href=\"https://colab.research.google.com/github/Marieta3/sentiment-analysis-russian/blob/master/sentiment_analiza.ipynb\" target=\"_parent\"><img src=\"https://colab.research.google.com/assets/colab-badge.svg\" alt=\"Open In Colab\"/></a>"
      ]
    },
    {
      "cell_type": "markdown",
      "metadata": {
        "id": "SO48X-vVYvqA",
        "colab_type": "text"
      },
      "source": [
        "#Analiza sentimenta tvitova na ruskom jeziku\n"
      ]
    },
    {
      "cell_type": "markdown",
      "metadata": {
        "id": "0wdrXyqYaF3m",
        "colab_type": "text"
      },
      "source": [
        "##Importovanje potrebnih biblioteka"
      ]
    },
    {
      "cell_type": "code",
      "metadata": {
        "id": "kDhxIyKxYilj",
        "colab_type": "code",
        "colab": {
          "base_uri": "https://localhost:8080/",
          "height": 258
        },
        "outputId": "33cb4f15-b706-44fb-e1d9-0079fcf1435d"
      },
      "source": [
        "import tensorflow as tf\n",
        "import tflearn\n",
        "import pandas as pd\n",
        "from nltk.stem.snowball import RussianStemmer\n",
        "from nltk.tokenize import TweetTokenizer\n",
        "import re\n",
        "from collections import Counter\n",
        "from datetime import datetime\n",
        "import numpy as np\n",
        "from tflearn.data_utils import to_categorical"
      ],
      "execution_count": 1,
      "outputs": [
        {
          "output_type": "stream",
          "text": [
            "WARNING: Logging before flag parsing goes to stderr.\n",
            "W0702 19:30:05.916542 140089435973504 deprecation_wrapper.py:119] From /usr/local/lib/python3.6/dist-packages/tflearn/helpers/summarizer.py:9: The name tf.summary.merge is deprecated. Please use tf.compat.v1.summary.merge instead.\n",
            "\n",
            "W0702 19:30:05.918597 140089435973504 deprecation_wrapper.py:119] From /usr/local/lib/python3.6/dist-packages/tflearn/helpers/trainer.py:25: The name tf.summary.FileWriter is deprecated. Please use tf.compat.v1.summary.FileWriter instead.\n",
            "\n",
            "W0702 19:30:05.939906 140089435973504 deprecation_wrapper.py:119] From /usr/local/lib/python3.6/dist-packages/tflearn/collections.py:13: The name tf.GraphKeys is deprecated. Please use tf.compat.v1.GraphKeys instead.\n",
            "\n",
            "W0702 19:30:05.948979 140089435973504 deprecation_wrapper.py:119] From /usr/local/lib/python3.6/dist-packages/tflearn/config.py:123: The name tf.get_collection is deprecated. Please use tf.compat.v1.get_collection instead.\n",
            "\n",
            "W0702 19:30:05.964372 140089435973504 deprecation_wrapper.py:119] From /usr/local/lib/python3.6/dist-packages/tflearn/config.py:129: The name tf.add_to_collection is deprecated. Please use tf.compat.v1.add_to_collection instead.\n",
            "\n",
            "W0702 19:30:05.965626 140089435973504 deprecation_wrapper.py:119] From /usr/local/lib/python3.6/dist-packages/tflearn/config.py:131: The name tf.assign is deprecated. Please use tf.compat.v1.assign instead.\n",
            "\n"
          ],
          "name": "stderr"
        }
      ]
    },
    {
      "cell_type": "markdown",
      "metadata": {
        "id": "nCqffu4Bxlo1",
        "colab_type": "text"
      },
      "source": [
        "##Konstante"
      ]
    },
    {
      "cell_type": "code",
      "metadata": {
        "id": "K4ZI_CHOxpN9",
        "colab_type": "code",
        "colab": {}
      },
      "source": [
        "VOCAB_SIZE = 5000\n",
        "MANJI_DEO = False\n",
        "TEST_SIZE = 0.3"
      ],
      "execution_count": 0,
      "outputs": []
    },
    {
      "cell_type": "markdown",
      "metadata": {
        "id": "oPmbdnVAbxWy",
        "colab_type": "text"
      },
      "source": [
        "##Učitavanje podataka"
      ]
    },
    {
      "cell_type": "code",
      "metadata": {
        "id": "1C3wqmvKb0xZ",
        "colab_type": "code",
        "colab": {}
      },
      "source": [
        "col = 3 #kolona koja sadrzi tvit, ostale kolone nisu potrebne\n",
        "rows=100000\n",
        "if(MANJI_DEO):\n",
        "  positive = pd.read_csv(\n",
        "      'https://raw.githubusercontent.com/Marieta3/sentiment-analysis-russian/master/positive.csv', header=None, delimiter=';')[:rows][col];\n",
        "  negative = pd.read_csv(\n",
        "      'https://raw.githubusercontent.com/Marieta3/sentiment-analysis-russian/master/negative.csv', header=None, delimiter=';')[:rows][col];\n",
        "else:\n",
        "  positive = pd.read_csv(\n",
        "      'https://raw.githubusercontent.com/Marieta3/sentiment-analysis-russian/master/positive.csv', header=None, delimiter=';')[[col]];\n",
        "  negative = pd.read_csv(\n",
        "      'https://raw.githubusercontent.com/Marieta3/sentiment-analysis-russian/master/negative.csv', header=None, delimiter=';')[[col]];  "
      ],
      "execution_count": 0,
      "outputs": []
    },
    {
      "cell_type": "markdown",
      "metadata": {
        "id": "XkZH1Ig3gBAa",
        "colab_type": "text"
      },
      "source": [
        "##Testiranje učitanih podataka\n"
      ]
    },
    {
      "cell_type": "code",
      "metadata": {
        "id": "C4QZF7nogJnx",
        "colab_type": "code",
        "outputId": "16400a5d-df18-4674-d817-ea63b8612763",
        "colab": {
          "base_uri": "https://localhost:8080/",
          "height": 85
        }
      },
      "source": [
        "print('Pozitivnih tvitova: ' +str(len(positive)))\n",
        "print('Negativnih tvitova: ' +str(len(negative)))\n",
        "\n",
        "positive = positive.head(30000)\n",
        "negative = negative.head(30000)\n",
        "\n",
        "print('Pozitivnih tvitova: ' +str(len(positive)))\n",
        "print('Negativnih tvitova: ' +str(len(negative)))"
      ],
      "execution_count": 4,
      "outputs": [
        {
          "output_type": "stream",
          "text": [
            "Pozitivnih tvitova: 114911\n",
            "Negativnih tvitova: 111923\n",
            "Pozitivnih tvitova: 30000\n",
            "Negativnih tvitova: 30000\n"
          ],
          "name": "stdout"
        }
      ]
    },
    {
      "cell_type": "markdown",
      "metadata": {
        "id": "AzLm5qPSExXJ",
        "colab_type": "text"
      },
      "source": [
        "##Izvlačenje osnovnog oblika iz tokena"
      ]
    },
    {
      "cell_type": "code",
      "metadata": {
        "id": "kvVDMhUME2t_",
        "colab_type": "code",
        "outputId": "5a4ebd80-54af-4cf0-a555-6e4e4f2d4bbf",
        "colab": {
          "base_uri": "https://localhost:8080/",
          "height": 34
        }
      },
      "source": [
        "stemmer = RussianStemmer()\n",
        "stem_cache={}  #smanjuje vreme izvršavanja, ako se reč već pojavljivala, samo je uzmemo iz liste\n",
        "def get_stem(token):\n",
        "  stem =stem_cache.get(token, None)\n",
        "  if stem:\n",
        "    return stem\n",
        "  \n",
        "  token=re.sub('[^а-яА-Я ]', '', token)  #samo slova\n",
        "  stem=stemmer.stem(token)\n",
        "  stem_cache[token]=stem\n",
        "  return stem\n",
        "get_stem('!')"
      ],
      "execution_count": 5,
      "outputs": [
        {
          "output_type": "execute_result",
          "data": {
            "text/plain": [
              "''"
            ]
          },
          "metadata": {
            "tags": []
          },
          "execution_count": 5
        }
      ]
    },
    {
      "cell_type": "markdown",
      "metadata": {
        "id": "YO8j8DF6Fd-l",
        "colab_type": "text"
      },
      "source": [
        "##Tokenizacija"
      ]
    },
    {
      "cell_type": "code",
      "metadata": {
        "id": "EiWULz3ZFjwy",
        "colab_type": "code",
        "colab": {}
      },
      "source": [
        "recnik = Counter()\n",
        "tokenizer = TweetTokenizer()\n",
        "\n",
        "\n",
        "def popuni_recnik(tweets):\n",
        "  for t in tweets.values.tolist():\n",
        "    #print(t[0])\n",
        "    tweet=t[0]\n",
        "    \n",
        "    tokens=tokenizer.tokenize(tweet)\n",
        "    for token in tokens:\n",
        "      stem=get_stem(token)\n",
        "      if stem!='':\n",
        "        recnik[stem]+=1\n",
        "    \n",
        "start_time=datetime.now()  \n",
        "popuni_recnik(positive)\n",
        "popuni_recnik(negative)\n",
        "end_time=datetime.now()"
      ],
      "execution_count": 0,
      "outputs": []
    },
    {
      "cell_type": "code",
      "metadata": {
        "id": "uzMO23AKJ3kS",
        "colab_type": "code",
        "outputId": "a16d35e3-650c-4a67-8526-137b43844db1",
        "colab": {
          "base_uri": "https://localhost:8080/",
          "height": 51
        }
      },
      "source": [
        "print('Потребно време за попуњавање речника: ', end_time-start_time)\n",
        "print(\"Укупан број различитих речи: \", len(recnik))\n"
      ],
      "execution_count": 7,
      "outputs": [
        {
          "output_type": "stream",
          "text": [
            "Потребно време за попуњавање речника:  0:00:28.801885\n",
            "Укупан број различитих речи:  41822\n"
          ],
          "name": "stdout"
        }
      ]
    },
    {
      "cell_type": "code",
      "metadata": {
        "id": "wbbGM9-N_AOO",
        "colab_type": "code",
        "colab": {}
      },
      "source": [
        "vocab = sorted(recnik, key=recnik.get, reverse=True)[:VOCAB_SIZE]  #сортирано по броју понављања опадајуће, првих 5000"
      ],
      "execution_count": 0,
      "outputs": []
    },
    {
      "cell_type": "code",
      "metadata": {
        "id": "U_d71VU5_D7v",
        "colab_type": "code",
        "outputId": "3e84c4db-cd49-4e93-b656-4ed7786d037c",
        "colab": {
          "base_uri": "https://localhost:8080/",
          "height": 105
        }
      },
      "source": [
        "print(vocab[:10])\n",
        "print(vocab[1000:1020])\n",
        "print(vocab[-10:])\n",
        "print(\"Дужина скраћеног речника: \",len(vocab))"
      ],
      "execution_count": 9,
      "outputs": [
        {
          "output_type": "stream",
          "text": [
            "['не', 'я', 'и', 'в', 'на', 'а', 'что', 'с', 'так', 'эт']\n",
            "['выуч', 'результат', 'гдет', 'збс', 'минус', 'нафиг', 'порт', 'выбра', 'вперв', 'бред', 'шутк', 'киев', 'дед', 'ктонибуд', 'выгляд', 'просмотр', 'хм', 'даш', 'возьм', 'снима']\n",
            "['позад', 'джо', 'попк', 'пользу', 'лап', 'произойдет', 'ледов', 'француз', 'бяк', 'проц']\n",
            "Дужина скраћеног речника:  5000\n"
          ],
          "name": "stdout"
        }
      ]
    },
    {
      "cell_type": "code",
      "metadata": {
        "id": "6BeRDDPX23AF",
        "colab_type": "code",
        "outputId": "c900d3b6-5fcc-4572-c38d-20b03909214c",
        "colab": {
          "base_uri": "https://localhost:8080/",
          "height": 34
        }
      },
      "source": [
        "idx=5000-3\n",
        "print(\"Reč: \", vocab[idx], \" se pojavila \", recnik.get(vocab[idx]), \" puta\")\n",
        "\n",
        "\n"
      ],
      "execution_count": 10,
      "outputs": [
        {
          "output_type": "stream",
          "text": [
            "Reč:  француз  se pojavila  9  puta\n"
          ],
          "name": "stdout"
        }
      ]
    },
    {
      "cell_type": "code",
      "metadata": {
        "id": "TLfWZLklXSCC",
        "colab_type": "code",
        "outputId": "86eb5b45-a571-4e7a-eced-fb3bc3d05be1",
        "colab": {
          "base_uri": "https://localhost:8080/",
          "height": 51
        }
      },
      "source": [
        "token_to_idx = {vocab[i] : i for i in range(VOCAB_SIZE)}\n",
        "print(token_to_idx.get('', None))\n",
        "print(type(token_to_idx))"
      ],
      "execution_count": 11,
      "outputs": [
        {
          "output_type": "stream",
          "text": [
            "None\n",
            "<class 'dict'>\n"
          ],
          "name": "stdout"
        }
      ]
    },
    {
      "cell_type": "markdown",
      "metadata": {
        "id": "QNEcvknB8TgQ",
        "colab_type": "text"
      },
      "source": [
        "##Pretvaranje tvita u vektor\n",
        "\n",
        "*   vektor je duzine broja reci u recniku (5000)\n",
        "*   ukoliko tvit sadrzi rec koja se nalazi u recniku, na odgovarajucem mestu u vektoru se nalazi jedinica; u suprotnom nula\n"
      ]
    },
    {
      "cell_type": "code",
      "metadata": {
        "id": "RcANZxS28Qh5",
        "colab_type": "code",
        "colab": {}
      },
      "source": [
        "def tweet_to_vector(tweet, print_unknown=False):\n",
        "  vector=np.zeros(VOCAB_SIZE, dtype=int)\n",
        "  for token in tokenizer.tokenize(tweet):\n",
        "    stem=get_stem(token)\n",
        "    idx=token_to_idx.get(stem, None)\n",
        "    if idx is not None:\n",
        "      vector[idx]=1\n",
        "    else:\n",
        "      if(print_unknown):\n",
        "        print('Nepoznata rec: ', token)\n",
        "  return vector\n",
        "    "
      ],
      "execution_count": 0,
      "outputs": []
    },
    {
      "cell_type": "code",
      "metadata": {
        "id": "YZTSxwSJ9a7Y",
        "colab_type": "code",
        "outputId": "d1c7aed7-7e96-42a2-f779-8b9aa1c801bc",
        "colab": {
          "base_uri": "https://localhost:8080/",
          "height": 85
        }
      },
      "source": [
        "tw_idx=1\n",
        "pos_tws=positive.values.tolist()\n",
        "neg_tws=negative.values.tolist()\n",
        "print(\"tweet: {}\".format(pos_tws[tw_idx][0]))\n",
        "print(\"tweet: {}\".format(tweet_to_vector(pos_tws[tw_idx][0])[:10]))\n",
        "print(\"tweet: {}\".format(neg_tws[tw_idx][0]))\n",
        "print(\"tweet: {}\".format(tweet_to_vector(neg_tws[tw_idx][0])[:10]))"
      ],
      "execution_count": 13,
      "outputs": [
        {
          "output_type": "stream",
          "text": [
            "tweet: Да, все-таки он немного похож на него. Но мой мальчик все равно лучше:D\n",
            "tweet: [0 0 0 0 1 0 0 0 0 0]\n",
            "tweet: Коллеги сидят рубятся в Urban terror, а я из-за долбанной винды не могу :(\n",
            "tweet: [1 1 0 1 0 1 0 0 0 0]\n"
          ],
          "name": "stdout"
        }
      ]
    },
    {
      "cell_type": "code",
      "metadata": {
        "id": "bS5izeQ1rOK2",
        "colab_type": "code",
        "outputId": "caae9843-27c1-45d8-9305-b8272b0cacc3",
        "colab": {
          "base_uri": "https://localhost:8080/",
          "height": 34
        }
      },
      "source": [
        "try:\n",
        "  del train_vectors\n",
        "  del test_vectors\n",
        "except:\n",
        "  print('Nije definisano')\n",
        "  \n",
        "train_size = round((len(negative) + len(positive))*(1-TEST_SIZE))\n",
        "test_size = len(negative) + len(positive) - train_size\n",
        "\n",
        "train_vectors = np.zeros((train_size, VOCAB_SIZE), dtype=np.int_)\n",
        "test_vectors = np.zeros((test_size, VOCAB_SIZE), dtype=np.int_)"
      ],
      "execution_count": 14,
      "outputs": [
        {
          "output_type": "stream",
          "text": [
            "Nije definisano\n"
          ],
          "name": "stdout"
        }
      ]
    },
    {
      "cell_type": "code",
      "metadata": {
        "id": "RwcRRrxXD05C",
        "colab_type": "code",
        "colab": {}
      },
      "source": [
        "tweets=[]\n",
        "cnt=0\n",
        "cnt2=0\n",
        "\n",
        "train_pos_size = round(len(positive)*(1-TEST_SIZE))\n",
        "train_neg_size = round(len(negative)*(1-TEST_SIZE))\n",
        "\n",
        "for tweet in negative.values.tolist():\n",
        "  #print(tweet[0])\n",
        "  tweets.append(tweet[0])\n",
        "  if cnt < train_neg_size:\n",
        "    train_vectors[cnt]=tweet_to_vector(tweet[0])\n",
        "    cnt+=1\n",
        "  else:\n",
        "    test_vectors[cnt2]=tweet_to_vector(tweet[0])\n",
        "    cnt2+=1\n",
        "for tweet in positive.values.tolist():\n",
        "  tweets.append(tweet[0])\n",
        "  if cnt < train_neg_size + train_pos_size:\n",
        "    train_vectors[cnt]=tweet_to_vector(tweet[0])\n",
        "    cnt+=1\n",
        "  else:\n",
        "    test_vectors[cnt2]=tweet_to_vector(tweet[0])\n",
        "    cnt2+=1\n"
      ],
      "execution_count": 0,
      "outputs": []
    },
    {
      "cell_type": "code",
      "metadata": {
        "id": "KnjMgroLOcx8",
        "colab_type": "code",
        "outputId": "e89dd98f-a376-4361-bb29-8ab7118cfa02",
        "colab": {
          "base_uri": "https://localhost:8080/",
          "height": 170
        }
      },
      "source": [
        "print(len(train_vectors))\n",
        "print(len(train_vectors[0]))\n",
        "print(train_vectors)"
      ],
      "execution_count": 16,
      "outputs": [
        {
          "output_type": "stream",
          "text": [
            "42000\n",
            "5000\n",
            "[[0 1 1 ... 0 0 0]\n",
            " [1 1 0 ... 0 0 0]\n",
            " [0 0 0 ... 0 0 0]\n",
            " ...\n",
            " [0 0 0 ... 0 0 0]\n",
            " [0 0 0 ... 0 0 0]\n",
            " [0 0 0 ... 0 0 0]]\n"
          ],
          "name": "stdout"
        }
      ]
    },
    {
      "cell_type": "markdown",
      "metadata": {
        "id": "Xq5YN7JDKsdd",
        "colab_type": "text"
      },
      "source": [
        "##Brisanje vektora tvitova"
      ]
    },
    {
      "cell_type": "code",
      "metadata": {
        "id": "P4Z9BNN-70jM",
        "colab_type": "code",
        "colab": {}
      },
      "source": [
        "del train_vectors\n",
        "del test_vectors"
      ],
      "execution_count": 0,
      "outputs": []
    },
    {
      "cell_type": "markdown",
      "metadata": {
        "id": "hXCdZAaqK2tj",
        "colab_type": "text"
      },
      "source": [
        "##Labele"
      ]
    },
    {
      "cell_type": "code",
      "metadata": {
        "id": "4Z1l3gvGEH9b",
        "colab_type": "code",
        "colab": {}
      },
      "source": [
        "#labels = np.append(np.zeros(len(negative), dtype=np.int_), np.ones(len(positive), dtype=np.int_))\n",
        "\n",
        "train_labels = np.append(\n",
        "    np.zeros(train_neg_size, dtype=np.int_), \n",
        "    np.ones(train_pos_size, dtype=np.int_))\n",
        "\n",
        "test_labels = np.append(\n",
        "    np.zeros(len(negative) - train_neg_size, dtype=np.int_), \n",
        "    np.ones(len(positive) - train_pos_size, dtype=np.int_))"
      ],
      "execution_count": 0,
      "outputs": []
    },
    {
      "cell_type": "code",
      "metadata": {
        "id": "7NtHGCL2wXhw",
        "colab_type": "code",
        "colab": {}
      },
      "source": [
        "y_train = to_categorical(train_labels, 2)\n",
        "y_test = to_categorical(test_labels, 2)\n"
      ],
      "execution_count": 0,
      "outputs": []
    },
    {
      "cell_type": "markdown",
      "metadata": {
        "id": "YMYqzARpwmOX",
        "colab_type": "text"
      },
      "source": [
        "##Kreiranje modela"
      ]
    },
    {
      "cell_type": "code",
      "metadata": {
        "id": "O1meOTMhwoQk",
        "colab_type": "code",
        "colab": {}
      },
      "source": [
        "def build_model(learning_rate=0.1):\n",
        "    tf.reset_default_graph()\n",
        "    \n",
        "    net = tflearn.input_data([None, VOCAB_SIZE])\n",
        "    net = tflearn.fully_connected(net, 125, activation='ReLU')\n",
        "    net = tflearn.fully_connected(net, 25, activation='ReLU')\n",
        "    net = tflearn.fully_connected(net, 2, activation='softmax')\n",
        "    regression = tflearn.regression(\n",
        "        net, \n",
        "        optimizer='sgd', \n",
        "        learning_rate=learning_rate, \n",
        "        loss='categorical_crossentropy')\n",
        "    \n",
        "    model = tflearn.DNN(net)\n",
        "    return model"
      ],
      "execution_count": 0,
      "outputs": []
    },
    {
      "cell_type": "code",
      "metadata": {
        "id": "j7-OoTVww4Ov",
        "colab_type": "code",
        "colab": {}
      },
      "source": [
        "\n",
        "model = build_model(learning_rate=0.75)"
      ],
      "execution_count": 0,
      "outputs": []
    },
    {
      "cell_type": "code",
      "metadata": {
        "id": "teB6f76gw6wF",
        "colab_type": "code",
        "colab": {
          "base_uri": "https://localhost:8080/",
          "height": 102
        },
        "outputId": "d3ced964-f1e1-4208-9a47-af3fb842a194"
      },
      "source": [
        "model.fit(\n",
        "    train_vectors, \n",
        "    y_train, \n",
        "    validation_set=0.1, \n",
        "    show_metric=True, \n",
        "    batch_size=128, \n",
        "    n_epoch=3)"
      ],
      "execution_count": 21,
      "outputs": [
        {
          "output_type": "stream",
          "text": [
            "Training Step: 887  | total loss: \u001b[1m\u001b[32m0.54931\u001b[0m\u001b[0m | time: 5.186s\n",
            "| SGD | epoch: 003 | loss: 0.54931 - acc: 0.7101 -- iter: 37760/37800\n",
            "Training Step: 888  | total loss: \u001b[1m\u001b[32m0.54977\u001b[0m\u001b[0m | time: 6.229s\n",
            "| SGD | epoch: 003 | loss: 0.54977 - acc: 0.7086 | val_loss: 0.57201 - val_acc: 0.6962 -- iter: 37800/37800\n",
            "--\n"
          ],
          "name": "stdout"
        }
      ]
    },
    {
      "cell_type": "markdown",
      "metadata": {
        "id": "Zw3DzYX0L2pB",
        "colab_type": "text"
      },
      "source": [
        "##Testiranje"
      ]
    },
    {
      "cell_type": "code",
      "metadata": {
        "id": "hnAHUYihL5nY",
        "colab_type": "code",
        "colab": {
          "base_uri": "https://localhost:8080/",
          "height": 34
        },
        "outputId": "86a83511-35be-48bc-c07f-784dd06a2253"
      },
      "source": [
        "predictions = (np.array(model.predict(test_vectors))[:,0] >= 0.5).astype(np.int_)\n",
        "accuracy = np.mean(predictions == y_test[:,0], axis=0)\n",
        "print(\"Accuracy: \", accuracy)"
      ],
      "execution_count": 22,
      "outputs": [
        {
          "output_type": "stream",
          "text": [
            "Accuracy:  0.6950555555555555\n"
          ],
          "name": "stdout"
        }
      ]
    },
    {
      "cell_type": "code",
      "metadata": {
        "id": "CYZf3eQbMJ-s",
        "colab_type": "code",
        "colab": {}
      },
      "source": [
        "def test_tweet(tweet):\n",
        "    tweet_vector = tweet_to_vector(tweet, True)\n",
        "    positive_prob = model.predict([tweet_vector])[0][1]\n",
        "    print('Original tweet: {}'.format(tweet))\n",
        "    print('P(positive) = {:.5f}. Result: '.format(positive_prob), \n",
        "          'Positive' if positive_prob > 0.5 else 'Negative')"
      ],
      "execution_count": 0,
      "outputs": []
    },
    {
      "cell_type": "code",
      "metadata": {
        "id": "7X14m0BQMTll",
        "colab_type": "code",
        "colab": {}
      },
      "source": [
        "def test_tweet_number(idx):\n",
        "    test_tweet(tweets[idx])"
      ],
      "execution_count": 0,
      "outputs": []
    },
    {
      "cell_type": "code",
      "metadata": {
        "id": "SEN8skJoMVR9",
        "colab_type": "code",
        "colab": {
          "base_uri": "https://localhost:8080/",
          "height": 187
        },
        "outputId": "7acfce23-8177-42ef-bb1f-b7c9a29a61cb"
      },
      "source": [
        "test_tweet_number(40003)"
      ],
      "execution_count": 36,
      "outputs": [
        {
          "output_type": "stream",
          "text": [
            "Nepoznata rec:  *\n",
            "Nepoznata rec:  -\n",
            "Nepoznata rec:  *\n",
            "Nepoznata rec:  ;)\n",
            "Nepoznata rec:  куколки\n",
            "Nepoznata rec:  :\n",
            "Nepoznata rec:  *\n",
            "Nepoznata rec:  http://t.co/1Hnl9DWxzh\n",
            "Original tweet: наши ночии *-* круты были очень ;) скучаю куколки моии :* http://t.co/1Hnl9DWxzh\n",
            "P(positive) = 0.74390. Result:  Positive\n"
          ],
          "name": "stdout"
        }
      ]
    },
    {
      "cell_type": "markdown",
      "metadata": {
        "id": "bpqrVsT1NsGT",
        "colab_type": "text"
      },
      "source": [
        "##Proba"
      ]
    },
    {
      "cell_type": "code",
      "metadata": {
        "id": "Fpb2TgrJNvCq",
        "colab_type": "code",
        "colab": {
          "base_uri": "https://localhost:8080/",
          "height": 459
        },
        "outputId": "202ff69c-906b-4115-ce78-3a7c223028b7"
      },
      "source": [
        "tweets_for_testing = [\n",
        "    \"меня оштрафовали по дороге домой!\",\n",
        "    \"Я люблю мороженое!\",\n",
        "    \"Я не люблю мороженое\",\n",
        "    \"меня обманули\",\n",
        "    \"меня обманули позитив\",\n",
        "    \"меня он очень бесить\",\n",
        "    \"меня он не бесить\"\n",
        "]\n",
        "for tweet in tweets_for_testing:\n",
        "    test_tweet(tweet) \n",
        "    print(\"---------\")"
      ],
      "execution_count": 45,
      "outputs": [
        {
          "output_type": "stream",
          "text": [
            "Nepoznata rec:  оштрафовали\n",
            "Nepoznata rec:  !\n",
            "Original tweet: меня оштрафовали по дороге домой!\n",
            "P(positive) = 0.20806. Result:  Negative\n",
            "---------\n",
            "Nepoznata rec:  !\n",
            "Original tweet: Я люблю мороженое!\n",
            "P(positive) = 0.77530. Result:  Positive\n",
            "---------\n",
            "Original tweet: Я не люблю мороженое\n",
            "P(positive) = 0.35009. Result:  Negative\n",
            "---------\n",
            "Nepoznata rec:  обманули\n",
            "Original tweet: меня обманули\n",
            "P(positive) = 0.25979. Result:  Negative\n",
            "---------\n",
            "Nepoznata rec:  обманули\n",
            "Original tweet: меня обманули позитив\n",
            "P(positive) = 0.28882. Result:  Negative\n",
            "---------\n",
            "Original tweet: меня он очень бесить\n",
            "P(positive) = 0.16582. Result:  Negative\n",
            "---------\n",
            "Original tweet: меня он не бесить\n",
            "P(positive) = 0.15639. Result:  Negative\n",
            "---------\n"
          ],
          "name": "stdout"
        }
      ]
    }
  ]
}