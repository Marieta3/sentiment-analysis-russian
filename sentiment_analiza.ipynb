{
  "nbformat": 4,
  "nbformat_minor": 0,
  "metadata": {
    "colab": {
      "name": "sentiment_analiza.ipynb",
      "version": "0.3.2",
      "provenance": [],
      "toc_visible": true,
      "include_colab_link": true
    },
    "kernelspec": {
      "name": "python3",
      "display_name": "Python 3"
    },
    "accelerator": "GPU"
  },
  "cells": [
    {
      "cell_type": "markdown",
      "metadata": {
        "id": "view-in-github",
        "colab_type": "text"
      },
      "source": [
        "<a href=\"https://colab.research.google.com/github/Marieta3/sentiment-analysis-russian/blob/master/sentiment_analiza.ipynb\" target=\"_parent\"><img src=\"https://colab.research.google.com/assets/colab-badge.svg\" alt=\"Open In Colab\"/></a>"
      ]
    },
    {
      "cell_type": "markdown",
      "metadata": {
        "id": "SO48X-vVYvqA",
        "colab_type": "text"
      },
      "source": [
        "#Analiza sentimenta tvitova na ruskom jeziku\n"
      ]
    },
    {
      "cell_type": "markdown",
      "metadata": {
        "id": "0wdrXyqYaF3m",
        "colab_type": "text"
      },
      "source": [
        "##Importovanje potrebnih biblioteka"
      ]
    },
    {
      "cell_type": "code",
      "metadata": {
        "id": "kDhxIyKxYilj",
        "colab_type": "code",
        "colab": {}
      },
      "source": [
        "import tensorflow as tf\n",
        "import tflearn\n",
        "import pandas as pd\n",
        "from nltk.stem.snowball import RussianStemmer\n",
        "from nltk.tokenize import TweetTokenizer\n",
        "import re\n",
        "from collections import Counter\n",
        "from datetime import datetime\n",
        "import numpy as np\n",
        "from tflearn.data_utils import to_categorical"
      ],
      "execution_count": 0,
      "outputs": []
    },
    {
      "cell_type": "markdown",
      "metadata": {
        "id": "nCqffu4Bxlo1",
        "colab_type": "text"
      },
      "source": [
        "##Konstante"
      ]
    },
    {
      "cell_type": "code",
      "metadata": {
        "id": "K4ZI_CHOxpN9",
        "colab_type": "code",
        "colab": {}
      },
      "source": [
        "VOCAB_SIZE = 5000\n",
        "MANJI_DEO = False\n",
        "TEST_SIZE = 0.3"
      ],
      "execution_count": 0,
      "outputs": []
    },
    {
      "cell_type": "markdown",
      "metadata": {
        "id": "oPmbdnVAbxWy",
        "colab_type": "text"
      },
      "source": [
        "##Učitavanje podataka"
      ]
    },
    {
      "cell_type": "code",
      "metadata": {
        "id": "1C3wqmvKb0xZ",
        "colab_type": "code",
        "colab": {}
      },
      "source": [
        "col = 3 #kolona koja sadrzi tvit, ostale kolone nisu potrebne\n",
        "rows=100000\n",
        "if(MANJI_DEO):\n",
        "  positive = pd.read_csv(\n",
        "      'https://raw.githubusercontent.com/Marieta3/sentiment-analysis-russian/master/positive.csv', header=None, delimiter=';')[:rows][col];\n",
        "  negative = pd.read_csv(\n",
        "      'https://raw.githubusercontent.com/Marieta3/sentiment-analysis-russian/master/negative.csv', header=None, delimiter=';')[:rows][col];\n",
        "else:\n",
        "  positive = pd.read_csv(\n",
        "      'https://raw.githubusercontent.com/Marieta3/sentiment-analysis-russian/master/positive.csv', header=None, delimiter=';')[[col]];\n",
        "  negative = pd.read_csv(\n",
        "      'https://raw.githubusercontent.com/Marieta3/sentiment-analysis-russian/master/negative.csv', header=None, delimiter=';')[[col]];  "
      ],
      "execution_count": 0,
      "outputs": []
    },
    {
      "cell_type": "markdown",
      "metadata": {
        "id": "XkZH1Ig3gBAa",
        "colab_type": "text"
      },
      "source": [
        "##Testiranje učitanih podataka\n"
      ]
    },
    {
      "cell_type": "code",
      "metadata": {
        "id": "C4QZF7nogJnx",
        "colab_type": "code",
        "outputId": "ecea5dcb-a241-443d-c1df-fbb4d5182c43",
        "colab": {
          "base_uri": "https://localhost:8080/",
          "height": 51
        }
      },
      "source": [
        "print('Pozitivnih tvitova: ' +str(len(positive)))\n",
        "print('Negativnih tvitova: ' +str(len(negative)))\n"
      ],
      "execution_count": 0,
      "outputs": [
        {
          "output_type": "stream",
          "text": [
            "Pozitivnih tvitova: 114911\n",
            "Negativnih tvitova: 111923\n"
          ],
          "name": "stdout"
        }
      ]
    },
    {
      "cell_type": "markdown",
      "metadata": {
        "id": "AzLm5qPSExXJ",
        "colab_type": "text"
      },
      "source": [
        "##Izvlačenje osnovnog oblika iz tokena"
      ]
    },
    {
      "cell_type": "code",
      "metadata": {
        "id": "kvVDMhUME2t_",
        "colab_type": "code",
        "outputId": "dbe65e02-b7e5-4062-8e1d-b1b146f4d0e1",
        "colab": {
          "base_uri": "https://localhost:8080/",
          "height": 34
        }
      },
      "source": [
        "stemmer = RussianStemmer()\n",
        "stem_cache={}  #smanjuje vreme izvršavanja, ako se reč već pojavljivala, samo je uzmemo iz liste\n",
        "def get_stem(token):\n",
        "  stem =stem_cache.get(token, None)\n",
        "  if stem:\n",
        "    return stem\n",
        "  \n",
        "  token=re.sub('[^а-яА-Я ]', '', token)  #samo slova\n",
        "  stem=stemmer.stem(token)\n",
        "  stem_cache[token]=stem\n",
        "  return stem\n",
        "get_stem('!')"
      ],
      "execution_count": 0,
      "outputs": [
        {
          "output_type": "execute_result",
          "data": {
            "text/plain": [
              "''"
            ]
          },
          "metadata": {
            "tags": []
          },
          "execution_count": 8
        }
      ]
    },
    {
      "cell_type": "markdown",
      "metadata": {
        "id": "YO8j8DF6Fd-l",
        "colab_type": "text"
      },
      "source": [
        "##Tokenizacija"
      ]
    },
    {
      "cell_type": "code",
      "metadata": {
        "id": "EiWULz3ZFjwy",
        "colab_type": "code",
        "colab": {}
      },
      "source": [
        "recnik = Counter()\n",
        "tokenizer = TweetTokenizer()\n",
        "\n",
        "\n",
        "def popuni_recnik(tweets):\n",
        "  for t in tweets.values.tolist():\n",
        "    #print(t[0])\n",
        "    tweet=t[0]\n",
        "    \n",
        "    tokens=tokenizer.tokenize(tweet)\n",
        "    for token in tokens:\n",
        "      stem=get_stem(token)\n",
        "      if stem!='':\n",
        "        recnik[stem]+=1\n",
        "    \n",
        "start_time=datetime.now()  \n",
        "popuni_recnik(positive)\n",
        "popuni_recnik(negative)\n",
        "end_time=datetime.now()"
      ],
      "execution_count": 0,
      "outputs": []
    },
    {
      "cell_type": "code",
      "metadata": {
        "id": "uzMO23AKJ3kS",
        "colab_type": "code",
        "outputId": "4dca5ac1-8abb-48bd-dfc3-b07d4aace687",
        "colab": {
          "base_uri": "https://localhost:8080/",
          "height": 68
        }
      },
      "source": [
        "print('Потребно време за попуњавање речника: ', end_time-start_time)\n",
        "print(\"Укупан број различитих речи: \", len(recnik))\n"
      ],
      "execution_count": 0,
      "outputs": [
        {
          "output_type": "stream",
          "text": [
            "Потребно време за попуњавање речника:  0:01:17.361479\n",
            "Укупан број различитих речи:  91779\n",
            "['не', 'я', 'и', 'в', 'на', 'а', 'что', 'так', 'с', 'эт']\n"
          ],
          "name": "stdout"
        }
      ]
    },
    {
      "cell_type": "code",
      "metadata": {
        "id": "wbbGM9-N_AOO",
        "colab_type": "code",
        "colab": {}
      },
      "source": [
        "vocab = sorted(recnik, key=recnik.get, reverse=True)[:VOCAB_SIZE]  #сортирано по броју понављања опадајуће, првих 5000"
      ],
      "execution_count": 0,
      "outputs": []
    },
    {
      "cell_type": "code",
      "metadata": {
        "id": "U_d71VU5_D7v",
        "colab_type": "code",
        "outputId": "715a88d1-8f7b-466c-8cfc-ab707c9d6daf",
        "colab": {
          "base_uri": "https://localhost:8080/",
          "height": 105
        }
      },
      "source": [
        "print(vocab[:10])\n",
        "print(vocab[1000:1020])\n",
        "print(vocab[-10:])\n",
        "print(\"Дужина скраћеног речника: \",len(vocab))"
      ],
      "execution_count": 0,
      "outputs": [
        {
          "output_type": "stream",
          "text": [
            "['не', 'я', 'и', 'в', 'на', 'а', 'что', 'так', 'с', 'эт']\n",
            "['хз', 'причин', 'пропа', 'биолог', 'придт', 'выбор', 'ух', 'глуп', 'помо', 'шерлок', 'ссылк', 'горяч', 'устро', 'прода', 'назва', 'солнц', 'молодежк', 'тест', 'руга', 'эмоц']\n",
            "['ае', 'зураг', 'юма', 'обучен', 'пьем', 'гал', 'гденибуд', 'нац', 'частн', 'сброс']\n",
            "Дужина скраћеног речника:  5000\n"
          ],
          "name": "stdout"
        }
      ]
    },
    {
      "cell_type": "code",
      "metadata": {
        "id": "6BeRDDPX23AF",
        "colab_type": "code",
        "outputId": "d4979efd-c13e-4484-9498-16b03fb601b4",
        "colab": {
          "base_uri": "https://localhost:8080/",
          "height": 34
        }
      },
      "source": [
        "idx=5000-3\n",
        "print(\"Reč: \", vocab[idx], \" se pojavila \", recnik.get(vocab[idx]), \" puta\")\n",
        "\n",
        "\n"
      ],
      "execution_count": 0,
      "outputs": [
        {
          "output_type": "stream",
          "text": [
            "Reč:  нац  se pojavila  33  puta\n"
          ],
          "name": "stdout"
        }
      ]
    },
    {
      "cell_type": "code",
      "metadata": {
        "id": "TLfWZLklXSCC",
        "colab_type": "code",
        "outputId": "6cc8c8ba-edc2-4b4d-927b-0867719b8094",
        "colab": {
          "base_uri": "https://localhost:8080/",
          "height": 51
        }
      },
      "source": [
        "token_to_idx = {vocab[i] : i for i in range(VOCAB_SIZE)}\n",
        "print(token_to_idx.get('', None))\n",
        "print(type(token_to_idx))"
      ],
      "execution_count": 0,
      "outputs": [
        {
          "output_type": "stream",
          "text": [
            "0\n",
            "<class 'dict'>\n"
          ],
          "name": "stdout"
        }
      ]
    },
    {
      "cell_type": "markdown",
      "metadata": {
        "id": "QNEcvknB8TgQ",
        "colab_type": "text"
      },
      "source": [
        "##Pretvaranje tvita u vektor\n",
        "\n",
        "*   vektor je duzine broja reci u recniku (5000)\n",
        "*   ukoliko tvit sadrzi rec koja se nalazi u recniku, na odgovarajucem mestu u vektoru se nalazi jedinica; u suprotnom nula\n"
      ]
    },
    {
      "cell_type": "code",
      "metadata": {
        "id": "RcANZxS28Qh5",
        "colab_type": "code",
        "colab": {}
      },
      "source": [
        "def tweet_to_vector(tweet, print_unknown=False):\n",
        "  vector=np.zeros(VOCAB_SIZE, dtype=int)\n",
        "  for token in tokenizer.tokenize(tweet):\n",
        "    stem=get_stem(token)\n",
        "    idx=token_to_idx.get(stem, None)\n",
        "    if idx is not None:\n",
        "      vector[idx]=1\n",
        "    else:\n",
        "      if(print_unknown):\n",
        "        print('Nepoznata rec: ', token)\n",
        "  return vector\n",
        "    "
      ],
      "execution_count": 0,
      "outputs": []
    },
    {
      "cell_type": "code",
      "metadata": {
        "id": "YZTSxwSJ9a7Y",
        "colab_type": "code",
        "outputId": "3ee9a5dc-9df7-4667-a413-a87f114b9f5a",
        "colab": {
          "base_uri": "https://localhost:8080/",
          "height": 85
        }
      },
      "source": [
        "tw_idx=1\n",
        "pos_tws=positive.values.tolist()\n",
        "neg_tws=negative.values.tolist()\n",
        "print(\"tweet: {}\".format(pos_tws[tw_idx][0]))\n",
        "print(\"tweet: {}\".format(tweet_to_vector(pos_tws[tw_idx][0])[:10]))\n",
        "print(\"tweet: {}\".format(neg_tws[tw_idx][0]))\n",
        "print(\"tweet: {}\".format(tweet_to_vector(neg_tws[tw_idx][0])[:10]))"
      ],
      "execution_count": 0,
      "outputs": [
        {
          "output_type": "stream",
          "text": [
            "tweet: Да, все-таки он немного похож на него. Но мой мальчик все равно лучше:D\n",
            "tweet: [1 0 0 0 0 1 0 0 0 0]\n",
            "tweet: Коллеги сидят рубятся в Urban terror, а я из-за долбанной винды не могу :(\n",
            "tweet: [1 1 1 0 1 0 1 0 0 0]\n"
          ],
          "name": "stdout"
        }
      ]
    },
    {
      "cell_type": "code",
      "metadata": {
        "id": "bS5izeQ1rOK2",
        "colab_type": "code",
        "outputId": "a9c9a4f9-cf5e-4ca6-a55a-94c9cd61e899",
        "colab": {
          "base_uri": "https://localhost:8080/",
          "height": 34
        }
      },
      "source": [
        "try:\n",
        "  del train_vectors\n",
        "  del test_vectors\n",
        "except:\n",
        "  print('Nije definisano')\n",
        "  \n",
        "train_size = round((len(negative) + len(positive))*(1-TEST_SIZE))\n",
        "test_size = len(negative) + len(positive) - train_size\n",
        "\n",
        "train_vectors = np.zeros((train_size, VOCAB_SIZE), dtype=np.int_)\n",
        "test_vectors = np.zeros((test_size, VOCAB_SIZE), dtype=np.int_)"
      ],
      "execution_count": 0,
      "outputs": [
        {
          "output_type": "stream",
          "text": [
            "Nije definisano\n"
          ],
          "name": "stdout"
        }
      ]
    },
    {
      "cell_type": "code",
      "metadata": {
        "id": "RwcRRrxXD05C",
        "colab_type": "code",
        "colab": {}
      },
      "source": [
        "tweets=[]\n",
        "cnt=0\n",
        "cnt2=0\n",
        "\n",
        "train_pos_size = round(len(positive)*(1-TEST_SIZE))\n",
        "train_neg_size = round(len(negative)*(1-TEST_SIZE))\n",
        "\n",
        "for tweet in negative.values.tolist():\n",
        "  #print(tweet[0])\n",
        "  tweets.append(tweet[0])\n",
        "  if cnt < train_neg_size:\n",
        "    train_vectors[cnt]=tweet_to_vector(tweet[0])\n",
        "    cnt+=1\n",
        "  else:\n",
        "    test_vectors[cnt2]=tweet_to_vector(tweet[0])\n",
        "    cnt2+=1\n",
        "for tweet in positive.values.tolist():\n",
        "  tweets.append(tweet[0])\n",
        "  if cnt < train_neg_size + train_pos_size:\n",
        "    train_vectors[cnt]=tweet_to_vector(tweet[0])\n",
        "    cnt+=1\n",
        "  else:\n",
        "    test_vectors[cnt2]=tweet_to_vector(tweet[0])\n",
        "    cnt2+=1\n"
      ],
      "execution_count": 0,
      "outputs": []
    },
    {
      "cell_type": "code",
      "metadata": {
        "id": "KnjMgroLOcx8",
        "colab_type": "code",
        "outputId": "72364534-964a-42a8-8a20-82babb24d15f",
        "colab": {
          "base_uri": "https://localhost:8080/",
          "height": 170
        }
      },
      "source": [
        "print(len(train_vectors))\n",
        "print(len(train_vectors[0]))\n",
        "print(train_vectors)"
      ],
      "execution_count": 0,
      "outputs": [
        {
          "output_type": "stream",
          "text": [
            "226834\n",
            "5000\n",
            "[[0 0 0 ... 0 0 0]\n",
            " [0 0 0 ... 0 0 0]\n",
            " [0 0 0 ... 0 0 0]\n",
            " ...\n",
            " [0 0 0 ... 0 0 0]\n",
            " [0 0 0 ... 0 0 0]\n",
            " [0 0 0 ... 0 0 0]]\n"
          ],
          "name": "stdout"
        }
      ]
    },
    {
      "cell_type": "markdown",
      "metadata": {
        "id": "Xq5YN7JDKsdd",
        "colab_type": "text"
      },
      "source": [
        "##Brisanje vektora tvitova"
      ]
    },
    {
      "cell_type": "code",
      "metadata": {
        "id": "P4Z9BNN-70jM",
        "colab_type": "code",
        "colab": {}
      },
      "source": [
        "del train_vectors\n",
        "del test_vectors"
      ],
      "execution_count": 0,
      "outputs": []
    },
    {
      "cell_type": "markdown",
      "metadata": {
        "id": "hXCdZAaqK2tj",
        "colab_type": "text"
      },
      "source": [
        "##Labele"
      ]
    },
    {
      "cell_type": "code",
      "metadata": {
        "id": "4Z1l3gvGEH9b",
        "colab_type": "code",
        "colab": {}
      },
      "source": [
        "#labels = np.append(np.zeros(len(negative), dtype=np.int_), np.ones(len(positive), dtype=np.int_))\n",
        "\n",
        "train_labels = np.append(\n",
        "    np.zeros(train_neg_size, dtype=np.int_), \n",
        "    np.ones(train_pos_size, dtype=np.int_))\n",
        "\n",
        "test_labels = np.append(\n",
        "    np.zeros(len(negative) - train_neg_size, dtype=np.int_), \n",
        "    np.ones(len(positive) - train_pos_size, dtype=np.int_))"
      ],
      "execution_count": 0,
      "outputs": []
    },
    {
      "cell_type": "code",
      "metadata": {
        "id": "7NtHGCL2wXhw",
        "colab_type": "code",
        "colab": {}
      },
      "source": [
        "y_train = to_categorical(train_labels, 2)\n",
        "y_test = to_categorical(test_labels, 2)\n"
      ],
      "execution_count": 0,
      "outputs": []
    },
    {
      "cell_type": "markdown",
      "metadata": {
        "id": "YMYqzARpwmOX",
        "colab_type": "text"
      },
      "source": [
        "##Kreiranje modela"
      ]
    },
    {
      "cell_type": "code",
      "metadata": {
        "id": "O1meOTMhwoQk",
        "colab_type": "code",
        "colab": {}
      },
      "source": [
        "def build_model(learning_rate=0.1):\n",
        "    tf.reset_default_graph()\n",
        "    \n",
        "    net = tflearn.input_data([None, VOCAB_SIZE])\n",
        "    net = tflearn.fully_connected(net, 125, activation='ReLU')\n",
        "    net = tflearn.fully_connected(net, 25, activation='ReLU')\n",
        "    net = tflearn.fully_connected(net, 2, activation='softmax')\n",
        "    regression = tflearn.regression(\n",
        "        net, \n",
        "        optimizer='sgd', \n",
        "        learning_rate=learning_rate, \n",
        "        loss='categorical_crossentropy')\n",
        "    \n",
        "    model = tflearn.DNN(net)\n",
        "    return model"
      ],
      "execution_count": 0,
      "outputs": []
    },
    {
      "cell_type": "code",
      "metadata": {
        "id": "j7-OoTVww4Ov",
        "colab_type": "code",
        "colab": {}
      },
      "source": [
        "\n",
        "model = build_model(learning_rate=0.75)"
      ],
      "execution_count": 0,
      "outputs": []
    },
    {
      "cell_type": "code",
      "metadata": {
        "id": "teB6f76gw6wF",
        "colab_type": "code",
        "colab": {}
      },
      "source": [
        "model.fit(\n",
        "    X_train, \n",
        "    y_train, \n",
        "    validation_set=0.1, \n",
        "    show_metric=True, \n",
        "    batch_size=128, \n",
        "    n_epoch=30)"
      ],
      "execution_count": 0,
      "outputs": []
    }
  ]
}