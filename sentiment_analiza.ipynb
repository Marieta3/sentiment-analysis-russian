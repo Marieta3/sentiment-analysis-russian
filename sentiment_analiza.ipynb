{
  "nbformat": 4,
  "nbformat_minor": 0,
  "metadata": {
    "colab": {
      "name": "sentiment_analiza.ipynb",
      "version": "0.3.2",
      "provenance": [],
      "toc_visible": true,
      "include_colab_link": true
    },
    "kernelspec": {
      "name": "python3",
      "display_name": "Python 3"
    },
    "accelerator": "GPU"
  },
  "cells": [
    {
      "cell_type": "markdown",
      "metadata": {
        "id": "view-in-github",
        "colab_type": "text"
      },
      "source": [
        "<a href=\"https://colab.research.google.com/github/Marieta3/sentiment-analysis-russian/blob/master/sentiment_analiza.ipynb\" target=\"_parent\"><img src=\"https://colab.research.google.com/assets/colab-badge.svg\" alt=\"Open In Colab\"/></a>"
      ]
    },
    {
      "cell_type": "markdown",
      "metadata": {
        "id": "SO48X-vVYvqA",
        "colab_type": "text"
      },
      "source": [
        "#Analiza sentimenta tvitova na ruskom jeziku\n"
      ]
    },
    {
      "cell_type": "markdown",
      "metadata": {
        "id": "0wdrXyqYaF3m",
        "colab_type": "text"
      },
      "source": [
        "##Importovanje potrebnih biblioteka"
      ]
    },
    {
      "cell_type": "code",
      "metadata": {
        "id": "kDhxIyKxYilj",
        "colab_type": "code",
        "colab": {}
      },
      "source": [
        "import tensorflow as tf\n",
        "import tflearn\n",
        "import pandas as pd\n",
        "import nltk \n",
        "nltk.download('stopwords')\n",
        "from nltk.corpus import stopwords\n",
        "from nltk.stem.snowball import RussianStemmer\n",
        "from nltk.tokenize import TweetTokenizer\n",
        "import re\n",
        "from collections import Counter\n",
        "from datetime import datetime\n",
        "import numpy as np\n",
        "from tflearn.data_utils import to_categorical"
      ],
      "execution_count": 0,
      "outputs": []
    },
    {
      "cell_type": "markdown",
      "metadata": {
        "id": "Z5c2hb8ue_hh",
        "colab_type": "text"
      },
      "source": [
        "##Import za custom nn"
      ]
    },
    {
      "cell_type": "code",
      "metadata": {
        "id": "gmRJ3HF-fDQJ",
        "colab_type": "code",
        "colab": {}
      },
      "source": [
        "from __future__ import print_function\n",
        "\n",
        "from abc import abstractmethod\n",
        "import math\n",
        "import random\n",
        "import copy"
      ],
      "execution_count": 0,
      "outputs": []
    },
    {
      "cell_type": "markdown",
      "metadata": {
        "id": "nCqffu4Bxlo1",
        "colab_type": "text"
      },
      "source": [
        "##Konstante"
      ]
    },
    {
      "cell_type": "code",
      "metadata": {
        "id": "K4ZI_CHOxpN9",
        "colab_type": "code",
        "colab": {}
      },
      "source": [
        "VOCAB_SIZE = 5000\n",
        "MANJI_DEO = True\n",
        "TEST_SIZE = 0.3"
      ],
      "execution_count": 0,
      "outputs": []
    },
    {
      "cell_type": "markdown",
      "metadata": {
        "id": "oPmbdnVAbxWy",
        "colab_type": "text"
      },
      "source": [
        "##Učitavanje podataka"
      ]
    },
    {
      "cell_type": "code",
      "metadata": {
        "id": "1C3wqmvKb0xZ",
        "colab_type": "code",
        "colab": {}
      },
      "source": [
        "col = 3 #kolona koja sadrzi tvit, ostale kolone nisu potrebne\n",
        "\n",
        "if(MANJI_DEO):\n",
        "  positive = pd.read_csv(\n",
        "      'https://raw.githubusercontent.com/Marieta3/sentiment-analysis-russian/master/positive.csv', header=None, delimiter=';')[[col]].sample(40000);\n",
        "  negative = pd.read_csv(\n",
        "      'https://raw.githubusercontent.com/Marieta3/sentiment-analysis-russian/master/negative.csv', header=None, delimiter=';')[[col]].sample(40000);\n",
        "else:\n",
        "  positive = pd.read_csv(\n",
        "      'https://raw.githubusercontent.com/Marieta3/sentiment-analysis-russian/master/positive.csv', header=None, delimiter=';')[[col]];\n",
        "  negative = pd.read_csv(\n",
        "      'https://raw.githubusercontent.com/Marieta3/sentiment-analysis-russian/master/negative.csv', header=None, delimiter=';')[[col]];  "
      ],
      "execution_count": 0,
      "outputs": []
    },
    {
      "cell_type": "markdown",
      "metadata": {
        "id": "XkZH1Ig3gBAa",
        "colab_type": "text"
      },
      "source": [
        "##Testiranje učitanih podataka\n"
      ]
    },
    {
      "cell_type": "code",
      "metadata": {
        "id": "C4QZF7nogJnx",
        "colab_type": "code",
        "outputId": "9a1cf519-37a5-489a-bf51-f7a390a0cef5",
        "colab": {
          "base_uri": "https://localhost:8080/",
          "height": 85
        }
      },
      "source": [
        "print('Pozitivnih tvitova: ' +str(len(positive)))\n",
        "print('Negativnih tvitova: ' +str(len(negative)))\n",
        "\n",
        "#positive = positive.head(30000)\n",
        "#negative = negative.head(30000)\n",
        "\n",
        "print('Pozitivnih tvitova: ' +str(len(positive)))\n",
        "print('Negativnih tvitova: ' +str(len(negative)))"
      ],
      "execution_count": 6,
      "outputs": [
        {
          "output_type": "stream",
          "text": [
            "Pozitivnih tvitova: 40000\n",
            "Negativnih tvitova: 40000\n",
            "Pozitivnih tvitova: 40000\n",
            "Negativnih tvitova: 40000\n"
          ],
          "name": "stdout"
        }
      ]
    },
    {
      "cell_type": "markdown",
      "metadata": {
        "id": "AzLm5qPSExXJ",
        "colab_type": "text"
      },
      "source": [
        "##Izvlačenje osnovnog oblika iz tokena"
      ]
    },
    {
      "cell_type": "code",
      "metadata": {
        "id": "kvVDMhUME2t_",
        "colab_type": "code",
        "outputId": "4de00e1f-50fe-4372-9e86-1d9e06f3caaa",
        "colab": {
          "base_uri": "https://localhost:8080/",
          "height": 34
        }
      },
      "source": [
        "stemmer = RussianStemmer()\n",
        "stem_cache={}  #smanjuje vreme izvršavanja, ako se reč već pojavljivala, samo je uzmemo iz liste\n",
        "def get_stem(token):\n",
        "  stem =stem_cache.get(token, None)\n",
        "  if stem:\n",
        "    return stem\n",
        "  \n",
        "  token=re.sub('[^а-яА-Я ]', '', token)  #samo slova\n",
        "  stem=stemmer.stem(token)\n",
        "  stem_cache[token]=stem\n",
        "  return stem\n",
        "get_stem('!')"
      ],
      "execution_count": 7,
      "outputs": [
        {
          "output_type": "execute_result",
          "data": {
            "text/plain": [
              "''"
            ]
          },
          "metadata": {
            "tags": []
          },
          "execution_count": 7
        }
      ]
    },
    {
      "cell_type": "markdown",
      "metadata": {
        "id": "YO8j8DF6Fd-l",
        "colab_type": "text"
      },
      "source": [
        "##Tokenizacija"
      ]
    },
    {
      "cell_type": "code",
      "metadata": {
        "id": "EiWULz3ZFjwy",
        "colab_type": "code",
        "colab": {}
      },
      "source": [
        "recnik = Counter()\n",
        "tokenizer = TweetTokenizer()\n",
        "stop_words = stopwords.words('russian')\n",
        "\n",
        "def popuni_recnik(tweets):\n",
        "  for t in tweets.values.tolist():\n",
        "    #print(t[0])\n",
        "    tweet=t[0]\n",
        "    \n",
        "    tokens=tokenizer.tokenize(tweet)\n",
        "    for token in tokens:\n",
        "      stem=get_stem(token)\n",
        "      if stem!='' and stem not in stop_words and token not in stop_words:\n",
        "        recnik[stem]+=1\n",
        "    \n",
        "start_time=datetime.now()  \n",
        "popuni_recnik(positive)\n",
        "popuni_recnik(negative)\n",
        "end_time=datetime.now()"
      ],
      "execution_count": 0,
      "outputs": []
    },
    {
      "cell_type": "code",
      "metadata": {
        "id": "uzMO23AKJ3kS",
        "colab_type": "code",
        "outputId": "f9d3f26d-c7ad-401f-881d-09b51a4fa3d7",
        "colab": {
          "base_uri": "https://localhost:8080/",
          "height": 51
        }
      },
      "source": [
        "print('Потребно време за попуњавање речника: ', end_time-start_time)\n",
        "print(\"Укупан број различитих речи: \", len(recnik))\n"
      ],
      "execution_count": 9,
      "outputs": [
        {
          "output_type": "stream",
          "text": [
            "Потребно време за попуњавање речника:  0:00:39.302675\n",
            "Укупан број различитих речи:  50473\n"
          ],
          "name": "stdout"
        }
      ]
    },
    {
      "cell_type": "code",
      "metadata": {
        "id": "wbbGM9-N_AOO",
        "colab_type": "code",
        "colab": {}
      },
      "source": [
        "vocab = sorted(recnik, key=recnik.get, reverse=True)[:VOCAB_SIZE]  #сортирано по броју понављања опадајуће, првих 5000"
      ],
      "execution_count": 0,
      "outputs": []
    },
    {
      "cell_type": "code",
      "metadata": {
        "id": "U_d71VU5_D7v",
        "colab_type": "code",
        "outputId": "497c92e6-ce4f-4dd0-9dfa-d097b5ffcb45",
        "colab": {
          "base_uri": "https://localhost:8080/",
          "height": 105
        }
      },
      "source": [
        "print(vocab[:10])\n",
        "print(vocab[1000:1020])\n",
        "print(vocab[-10:])\n",
        "print(\"Дужина скраћеног речника: \",len(vocab))"
      ],
      "execution_count": 11,
      "outputs": [
        {
          "output_type": "stream",
          "text": [
            "['эт', 'сегодн', 'прост', 'мо', 'хоч', 'очен', 'ден', 'теб', 'буд', 'год']\n",
            "['ссылк', 'перевод', 'теря', 'чтонибуд', 'херн', 'программ', 'событ', 'просмотр', 'возвраща', 'кошмар', 'длин', 'юм', 'ждет', 'дурацк', 'бед', 'жирн', 'клев', 'г', 'зло', 'официальн']\n",
            "['хммм', 'сценар', 'выкинут', 'госпад', 'ущербн', 'проебыва', 'связыва', 'инвалид', 'грбан', 'троек']\n",
            "Дужина скраћеног речника:  5000\n"
          ],
          "name": "stdout"
        }
      ]
    },
    {
      "cell_type": "code",
      "metadata": {
        "id": "6BeRDDPX23AF",
        "colab_type": "code",
        "outputId": "3d240746-9718-4188-a79c-c7ebc6755c5d",
        "colab": {
          "base_uri": "https://localhost:8080/",
          "height": 34
        }
      },
      "source": [
        "idx=0\n",
        "print(\"Reč: \", vocab[idx], \" se pojavila \", recnik.get(vocab[idx]), \" puta\")\n",
        "\n",
        "\n"
      ],
      "execution_count": 15,
      "outputs": [
        {
          "output_type": "stream",
          "text": [
            "Reč:  эт  se pojavila  8056  puta\n"
          ],
          "name": "stdout"
        }
      ]
    },
    {
      "cell_type": "code",
      "metadata": {
        "id": "TLfWZLklXSCC",
        "colab_type": "code",
        "outputId": "f52d5eb2-d880-4d7f-e755-b2286c0d1697",
        "colab": {
          "base_uri": "https://localhost:8080/",
          "height": 51
        }
      },
      "source": [
        "token_to_idx = {vocab[i] : i for i in range(VOCAB_SIZE)}\n",
        "print(token_to_idx.get('', None))\n",
        "print(type(token_to_idx))"
      ],
      "execution_count": 13,
      "outputs": [
        {
          "output_type": "stream",
          "text": [
            "None\n",
            "<class 'dict'>\n"
          ],
          "name": "stdout"
        }
      ]
    },
    {
      "cell_type": "markdown",
      "metadata": {
        "id": "QNEcvknB8TgQ",
        "colab_type": "text"
      },
      "source": [
        "##Pretvaranje tvita u vektor\n",
        "\n",
        "*   vektor je duzine broja reci u recniku (5000)\n",
        "*   ukoliko tvit sadrzi rec koja se nalazi u recniku, na odgovarajucem mestu u vektoru se nalazi jedinica; u suprotnom nula\n"
      ]
    },
    {
      "cell_type": "code",
      "metadata": {
        "id": "RcANZxS28Qh5",
        "colab_type": "code",
        "colab": {}
      },
      "source": [
        "def tweet_to_vector(tweet, print_unknown=False):\n",
        "  vector=np.zeros(VOCAB_SIZE, dtype=int)\n",
        "  for token in tokenizer.tokenize(tweet):\n",
        "    stem=get_stem(token)\n",
        "    idx=token_to_idx.get(stem, None)\n",
        "    if idx is not None:\n",
        "      vector[idx]=1\n",
        "    else:\n",
        "      if(print_unknown):\n",
        "        print('Nepoznata rec: ', token)\n",
        "  return vector\n",
        "    "
      ],
      "execution_count": 0,
      "outputs": []
    },
    {
      "cell_type": "code",
      "metadata": {
        "id": "YZTSxwSJ9a7Y",
        "colab_type": "code",
        "outputId": "40d5962b-b793-4cf1-f85f-40625161f32c",
        "colab": {
          "base_uri": "https://localhost:8080/",
          "height": 85
        }
      },
      "source": [
        "tw_idx=1\n",
        "pos_tws=positive.values.tolist()\n",
        "neg_tws=negative.values.tolist()\n",
        "print(\"tweet: {}\".format(pos_tws[tw_idx][0]))\n",
        "print(\"tweet: {}\".format(tweet_to_vector(pos_tws[tw_idx][0])[:10]))\n",
        "print(\"tweet: {}\".format(neg_tws[tw_idx][0]))\n",
        "print(\"tweet: {}\".format(tweet_to_vector(neg_tws[tw_idx][0])[:10]))"
      ],
      "execution_count": 17,
      "outputs": [
        {
          "output_type": "stream",
          "text": [
            "tweet: Ребят, спасибо вам за шикарную ночь!!! Это было круто!) http://t.co/Tm44RpfXQG\n",
            "tweet: [1 0 0 0 0 0 0 0 0 0]\n",
            "tweet: Снег ты где ???:( хочется хоть чуть -чуть новогодней атмосферы !\n",
            "tweet: [0 0 0 0 0 0 0 0 0 0]\n"
          ],
          "name": "stdout"
        }
      ]
    },
    {
      "cell_type": "code",
      "metadata": {
        "id": "bS5izeQ1rOK2",
        "colab_type": "code",
        "outputId": "b787decb-29bd-4a49-a543-a46cd5652f01",
        "colab": {
          "base_uri": "https://localhost:8080/",
          "height": 34
        }
      },
      "source": [
        "try:\n",
        "  del train_vectors\n",
        "  del test_vectors\n",
        "except:\n",
        "  print('Nije definisano')\n",
        "  \n",
        "train_size = round((len(negative) + len(positive))*(1-TEST_SIZE))\n",
        "test_size = len(negative) + len(positive) - train_size\n",
        "\n",
        "train_vectors = np.zeros((train_size, VOCAB_SIZE), dtype=np.int_)\n",
        "test_vectors = np.zeros((test_size, VOCAB_SIZE), dtype=np.int_)"
      ],
      "execution_count": 18,
      "outputs": [
        {
          "output_type": "stream",
          "text": [
            "Nije definisano\n"
          ],
          "name": "stdout"
        }
      ]
    },
    {
      "cell_type": "code",
      "metadata": {
        "id": "RwcRRrxXD05C",
        "colab_type": "code",
        "colab": {}
      },
      "source": [
        "tweets=[]\n",
        "cnt=0\n",
        "cnt2=0\n",
        "\n",
        "train_pos_size = round(len(positive)*(1-TEST_SIZE))\n",
        "train_neg_size = round(len(negative)*(1-TEST_SIZE))\n",
        "\n",
        "for tweet in negative.values.tolist():\n",
        "  #print(tweet[0])\n",
        "  tweets.append(tweet[0])\n",
        "  if cnt < train_neg_size:\n",
        "    train_vectors[cnt]=tweet_to_vector(tweet[0])\n",
        "    cnt+=1\n",
        "  else:\n",
        "    test_vectors[cnt2]=tweet_to_vector(tweet[0])\n",
        "    cnt2+=1\n",
        "for tweet in positive.values.tolist():\n",
        "  tweets.append(tweet[0])\n",
        "  if cnt < train_neg_size + train_pos_size:\n",
        "    train_vectors[cnt]=tweet_to_vector(tweet[0])\n",
        "    cnt+=1\n",
        "  else:\n",
        "    test_vectors[cnt2]=tweet_to_vector(tweet[0])\n",
        "    cnt2+=1\n"
      ],
      "execution_count": 0,
      "outputs": []
    },
    {
      "cell_type": "code",
      "metadata": {
        "id": "KnjMgroLOcx8",
        "colab_type": "code",
        "outputId": "3995bbdf-8890-429f-e6d1-7b2f263fab90",
        "colab": {
          "base_uri": "https://localhost:8080/",
          "height": 170
        }
      },
      "source": [
        "print(len(train_vectors))\n",
        "print(len(train_vectors[0]))\n",
        "print(train_vectors)"
      ],
      "execution_count": 20,
      "outputs": [
        {
          "output_type": "stream",
          "text": [
            "56000\n",
            "5000\n",
            "[[1 0 0 ... 0 0 0]\n",
            " [0 0 0 ... 0 0 0]\n",
            " [0 0 0 ... 0 0 0]\n",
            " ...\n",
            " [0 0 0 ... 0 0 0]\n",
            " [0 0 0 ... 0 0 0]\n",
            " [0 0 0 ... 0 0 0]]\n"
          ],
          "name": "stdout"
        }
      ]
    },
    {
      "cell_type": "markdown",
      "metadata": {
        "id": "Xq5YN7JDKsdd",
        "colab_type": "text"
      },
      "source": [
        "##Brisanje vektora tvitova"
      ]
    },
    {
      "cell_type": "code",
      "metadata": {
        "id": "P4Z9BNN-70jM",
        "colab_type": "code",
        "colab": {}
      },
      "source": [
        "del train_vectors\n",
        "del test_vectors"
      ],
      "execution_count": 0,
      "outputs": []
    },
    {
      "cell_type": "markdown",
      "metadata": {
        "id": "hXCdZAaqK2tj",
        "colab_type": "text"
      },
      "source": [
        "##Labele"
      ]
    },
    {
      "cell_type": "code",
      "metadata": {
        "id": "4Z1l3gvGEH9b",
        "colab_type": "code",
        "colab": {}
      },
      "source": [
        "#labels = np.append(np.zeros(len(negative), dtype=np.int_), np.ones(len(positive), dtype=np.int_))\n",
        "\n",
        "train_labels = np.append(\n",
        "    np.zeros(train_neg_size, dtype=np.int_), \n",
        "    np.ones(train_pos_size, dtype=np.int_))\n",
        "\n",
        "test_labels = np.append(\n",
        "    np.zeros(len(negative) - train_neg_size, dtype=np.int_), \n",
        "    np.ones(len(positive) - train_pos_size, dtype=np.int_))"
      ],
      "execution_count": 0,
      "outputs": []
    },
    {
      "cell_type": "code",
      "metadata": {
        "id": "7NtHGCL2wXhw",
        "colab_type": "code",
        "colab": {}
      },
      "source": [
        "y_train = to_categorical(train_labels, 2)\n",
        "y_test = to_categorical(test_labels, 2)\n"
      ],
      "execution_count": 0,
      "outputs": []
    },
    {
      "cell_type": "markdown",
      "metadata": {
        "id": "YMYqzARpwmOX",
        "colab_type": "text"
      },
      "source": [
        "##Kreiranje modela"
      ]
    },
    {
      "cell_type": "code",
      "metadata": {
        "id": "O1meOTMhwoQk",
        "colab_type": "code",
        "colab": {}
      },
      "source": [
        "def build_model(learning_rate=0.1):\n",
        "    tf.reset_default_graph()\n",
        "    \n",
        "    net = tflearn.input_data([None, VOCAB_SIZE])\n",
        "    net = tflearn.fully_connected(net, 125, activation='ReLU')\n",
        "    net = tflearn.fully_connected(net, 25, activation='ReLU')\n",
        "    net = tflearn.fully_connected(net, 2, activation='softmax')\n",
        "    regression = tflearn.regression(\n",
        "        net, \n",
        "        optimizer='sgd', \n",
        "        learning_rate=learning_rate, \n",
        "        loss='categorical_crossentropy')\n",
        "    \n",
        "    model = tflearn.DNN(net)\n",
        "    return model"
      ],
      "execution_count": 0,
      "outputs": []
    },
    {
      "cell_type": "code",
      "metadata": {
        "id": "j7-OoTVww4Ov",
        "colab_type": "code",
        "colab": {
          "base_uri": "https://localhost:8080/",
          "height": 326
        },
        "outputId": "00ce27dd-f9f6-479e-83d7-1566ab57ecad"
      },
      "source": [
        "\n",
        "model = build_model(learning_rate=0.75)"
      ],
      "execution_count": 23,
      "outputs": [
        {
          "output_type": "stream",
          "text": [
            "W0703 09:28:03.335266 140634864326528 deprecation_wrapper.py:119] From /usr/local/lib/python3.6/dist-packages/tflearn/layers/core.py:81: The name tf.placeholder is deprecated. Please use tf.compat.v1.placeholder instead.\n",
            "\n",
            "W0703 09:28:03.342907 140634864326528 deprecation.py:506] From /usr/local/lib/python3.6/dist-packages/tflearn/initializations.py:174: calling TruncatedNormal.__init__ (from tensorflow.python.ops.init_ops) with dtype is deprecated and will be removed in a future version.\n",
            "Instructions for updating:\n",
            "Call initializer instance with the dtype argument instead of passing it to the constructor\n",
            "W0703 09:28:03.406377 140634864326528 deprecation_wrapper.py:119] From /usr/local/lib/python3.6/dist-packages/tflearn/optimizers.py:135: The name tf.train.GradientDescentOptimizer is deprecated. Please use tf.compat.v1.train.GradientDescentOptimizer instead.\n",
            "\n",
            "W0703 09:28:03.421644 140634864326528 deprecation.py:506] From /usr/local/lib/python3.6/dist-packages/tflearn/objectives.py:66: calling reduce_sum_v1 (from tensorflow.python.ops.math_ops) with keep_dims is deprecated and will be removed in a future version.\n",
            "Instructions for updating:\n",
            "keep_dims is deprecated, use keepdims instead\n",
            "W0703 09:28:03.524008 140634864326528 deprecation_wrapper.py:119] From /usr/local/lib/python3.6/dist-packages/tflearn/summaries.py:46: The name tf.summary.scalar is deprecated. Please use tf.compat.v1.summary.scalar instead.\n",
            "\n",
            "W0703 09:28:03.615518 140634864326528 deprecation.py:323] From /usr/local/lib/python3.6/dist-packages/tensorflow/python/ops/math_grad.py:1250: add_dispatch_support.<locals>.wrapper (from tensorflow.python.ops.array_ops) is deprecated and will be removed in a future version.\n",
            "Instructions for updating:\n",
            "Use tf.where in 2.0, which has the same broadcast rule as np.where\n",
            "W0703 09:28:03.703116 140634864326528 deprecation_wrapper.py:119] From /usr/local/lib/python3.6/dist-packages/tflearn/helpers/trainer.py:134: The name tf.train.Saver is deprecated. Please use tf.compat.v1.train.Saver instead.\n",
            "\n"
          ],
          "name": "stderr"
        }
      ]
    },
    {
      "cell_type": "code",
      "metadata": {
        "id": "teB6f76gw6wF",
        "colab_type": "code",
        "outputId": "3d7d3e57-fc1a-4624-ef88-be453f02ebb9",
        "colab": {
          "base_uri": "https://localhost:8080/",
          "height": 102
        }
      },
      "source": [
        "model.fit(\n",
        "    train_vectors, \n",
        "    y_train, \n",
        "    validation_set=0.1, \n",
        "    show_metric=True, \n",
        "    batch_size=128, \n",
        "    n_epoch=3)"
      ],
      "execution_count": 67,
      "outputs": [
        {
          "output_type": "stream",
          "text": [
            "Training Step: 13001  | total loss: \u001b[1m\u001b[32m0.03872\u001b[0m\u001b[0m | time: 7.572s\n",
            "| SGD | epoch: 033 | loss: 0.03872 - acc: 0.9863 -- iter: 50304/50400\n",
            "Training Step: 13002  | total loss: \u001b[1m\u001b[32m0.03811\u001b[0m\u001b[0m | time: 8.642s\n",
            "| SGD | epoch: 033 | loss: 0.03811 - acc: 0.9861 | val_loss: 0.05570 - val_acc: 0.9770 -- iter: 50400/50400\n",
            "--\n"
          ],
          "name": "stdout"
        }
      ]
    },
    {
      "cell_type": "markdown",
      "metadata": {
        "id": "Zw3DzYX0L2pB",
        "colab_type": "text"
      },
      "source": [
        "##Testiranje"
      ]
    },
    {
      "cell_type": "code",
      "metadata": {
        "id": "hnAHUYihL5nY",
        "colab_type": "code",
        "outputId": "e4cf89a6-dfc7-4ac1-8ad4-d91dfa59ba2c",
        "colab": {
          "base_uri": "https://localhost:8080/",
          "height": 34
        }
      },
      "source": [
        "predictions = (np.array(model.predict(test_vectors))[:,0] >= 0.5).astype(np.int_)\n",
        "accuracy = np.mean(predictions == y_test[:,0], axis=0)\n",
        "print(\"Accuracy: \", accuracy)"
      ],
      "execution_count": 76,
      "outputs": [
        {
          "output_type": "stream",
          "text": [
            "Accuracy:  0.68175\n"
          ],
          "name": "stdout"
        }
      ]
    },
    {
      "cell_type": "code",
      "metadata": {
        "id": "CYZf3eQbMJ-s",
        "colab_type": "code",
        "colab": {}
      },
      "source": [
        "def test_tweet(tweet):\n",
        "    tweet_vector = tweet_to_vector(tweet, False)\n",
        "    positive_prob = model.predict([tweet_vector])[0][1]\n",
        "    print('Original tweet: {}'.format(tweet))\n",
        "    print('P(positive) = {:.5f}. Result: '.format(positive_prob), \n",
        "          'Positive' if positive_prob > 0.5 else 'Negative')"
      ],
      "execution_count": 0,
      "outputs": []
    },
    {
      "cell_type": "code",
      "metadata": {
        "id": "7X14m0BQMTll",
        "colab_type": "code",
        "colab": {}
      },
      "source": [
        "def test_tweet_number(idx):\n",
        "    test_tweet(tweets[idx])"
      ],
      "execution_count": 0,
      "outputs": []
    },
    {
      "cell_type": "code",
      "metadata": {
        "id": "SEN8skJoMVR9",
        "colab_type": "code",
        "outputId": "5279f261-6e2e-4359-e1d9-e04de28b4e11",
        "colab": {
          "base_uri": "https://localhost:8080/",
          "height": 163
        }
      },
      "source": [
        "test_tweet_number(40000-2)"
      ],
      "execution_count": 1,
      "outputs": [
        {
          "output_type": "error",
          "ename": "NameError",
          "evalue": "ignored",
          "traceback": [
            "\u001b[0;31m---------------------------------------------------------------------------\u001b[0m",
            "\u001b[0;31mNameError\u001b[0m                                 Traceback (most recent call last)",
            "\u001b[0;32m<ipython-input-1-74643c64bfc1>\u001b[0m in \u001b[0;36m<module>\u001b[0;34m()\u001b[0m\n\u001b[0;32m----> 1\u001b[0;31m \u001b[0mtest_tweet_number\u001b[0m\u001b[0;34m(\u001b[0m\u001b[0;36m40000\u001b[0m\u001b[0;34m-\u001b[0m\u001b[0;36m2\u001b[0m\u001b[0;34m)\u001b[0m\u001b[0;34m\u001b[0m\u001b[0;34m\u001b[0m\u001b[0m\n\u001b[0m",
            "\u001b[0;31mNameError\u001b[0m: name 'test_tweet_number' is not defined"
          ]
        }
      ]
    },
    {
      "cell_type": "markdown",
      "metadata": {
        "id": "bpqrVsT1NsGT",
        "colab_type": "text"
      },
      "source": [
        "##Proba"
      ]
    },
    {
      "cell_type": "code",
      "metadata": {
        "id": "Fpb2TgrJNvCq",
        "colab_type": "code",
        "colab": {}
      },
      "source": [
        "tweets_for_testing = [\n",
        "    \"меня оштрафовали по дороге домой!\",\n",
        "    \"Я люблю мороженое!\",\n",
        "    \"Я не люблю мороженое\",\n",
        "    \"меня обманули\",\n",
        "    \"меня обманули позитив\",\n",
        "    \"меня он очень бесить\",\n",
        "    \"меня он не бесить\",\n",
        "    \"Почему по ночам мне не спится? У машины скрипит колесо. Отразилась луна в ягодице. 10 лет тебе,синяя птица! Жаль,что букв всего лишь сто со\",\n",
        "    \"Смотрите сегодня, в 23:35, сразу после финала #голос6 @voice1tv, на @1tv, большой новогодний выпуск @vecherniy_urgant #вечернийургант! Я, @urgantcom и @lazarevsergey приготовили для вас праздничный новогодний номер!))) #иванургант #сергейлазарев #билан #… http://ift.tt/2zLgzWk \",\n",
        "    \"ШОК! Данилу Козловского задержали в центре Москвы за чтение Шекспира!\",\n",
        "    \"Через час в Петербурге,на улице Рубинштейна,дом 23 откроют памятник Сергею Довлатову.Надеваем халаты,тапочки,берем собак и цветы!\",\n",
        "    \"Спасибо академикам,коллегам и номинантам!Спасибо всей команде ВУ!Спасибо моей семье!И конечно спасибо Вам,дорогие телезрители!#тэфи2016\",\n",
        "    \"А вот и ласточка-новостнуха!24 апреля в Крокусе я поделюсь с Вами инсайтом на Synergy Insight Forum. Приходите что ли! #sif2017\"\n",
        "]\n",
        "for tweet in tweets_for_testing:\n",
        "    test_tweet(tweet) \n",
        "    print(\"---------\")"
      ],
      "execution_count": 0,
      "outputs": []
    },
    {
      "cell_type": "markdown",
      "metadata": {
        "id": "86FZ1rwzest5",
        "colab_type": "text"
      },
      "source": [
        "##Custom neuronska mreza"
      ]
    },
    {
      "cell_type": "code",
      "metadata": {
        "id": "MQ2e8HJyex1u",
        "colab_type": "code",
        "colab": {}
      },
      "source": [
        "\n",
        "random.seed(1337)\n",
        "\n",
        "class ComputationalNode(object):\n",
        "\n",
        "    @abstractmethod\n",
        "    def forward(self, x):\n",
        "        pass\n",
        "\n",
        "    @abstractmethod\n",
        "    def backward(self, dz):\n",
        "        pass\n",
        "      \n",
        "class MultiplyNode(ComputationalNode):\n",
        "\n",
        "    def __init__(self):\n",
        "        self.x = [0., 0.]  # x[0] je ulaz, x[1] je tezina\n",
        "\n",
        "    def forward(self, x):\n",
        "        self.x = x\n",
        "        # TODO 1: implementirati forward-pass za mnozac\n",
        "        #raise NotImplementedError('TODO 1')\n",
        "        return self.x[0]*self.x[1]\n",
        "\n",
        "    def backward(self, dz):\n",
        "        # TODO 1: implementirati backward-pass za mnozac\n",
        "        #raise NotImplementedError('TODO 1')\n",
        "        return [dz*self.x[1], dz*self.x[0]]\n",
        "      \n",
        "class SumNode(ComputationalNode):\n",
        "\n",
        "    def __init__(self):\n",
        "        self.x = []  # x je vektor, odnosno niz skalara\n",
        "\n",
        "    def forward(self, x):\n",
        "        self.x = x\n",
        "        # TODO 2: implementirati forward-pass za sabirac\n",
        "        #raise NotImplementedError('TODO 2')\n",
        "        return sum(self.x)\n",
        "\n",
        "    def backward(self, dz):\n",
        "        # TODO 2: implementirati backward-pass za sabirac\n",
        "        #raise NotImplementedError('TODO 2')\n",
        "        return [dz]*len(self.x)\n",
        "      \n"
      ],
      "execution_count": 0,
      "outputs": []
    },
    {
      "cell_type": "code",
      "metadata": {
        "id": "UwnqOe5hfW7D",
        "colab_type": "code",
        "colab": {}
      },
      "source": [
        "class SigmoidNode(ComputationalNode):\n",
        "\n",
        "    def __init__(self):\n",
        "        self.x = 0.  # x je skalar\n",
        "\n",
        "    def forward(self, x):\n",
        "        self.x = x\n",
        "        # TODO 3: implementirati forward-pass za sigmoidalni cvor\n",
        "        #raise NotImplementedError('TODO 3')\n",
        "        return self._sigmoid(self.x)\n",
        "\n",
        "    def backward(self, dz):\n",
        "        # TODO 3: implementirati backward-pass za sigmoidalni cvor\n",
        "        #raise NotImplementedError('TODO 3')\n",
        "        return dz*self._sigmoid(self.x)*(1-self._sigmoid(self.x))\n",
        "\n",
        "    def _sigmoid(self, x):\n",
        "        # TODO 3: implementirati sigmoidalnu funkciju\n",
        "        #raise NotImplementedError('TODO 3')\n",
        "        return 1/(1+math.exp(-x))"
      ],
      "execution_count": 0,
      "outputs": []
    },
    {
      "cell_type": "code",
      "metadata": {
        "id": "L8-xnioWfZ56",
        "colab_type": "code",
        "colab": {}
      },
      "source": [
        "class ReLuNode(ComputationalNode):\n",
        "\n",
        "    def __init__(self):\n",
        "        self.x = 0.  # x je skalar\n",
        "\n",
        "    def forward(self, x):\n",
        "        self.x = x\n",
        "        return self._relu(self.x)\n",
        "\n",
        "    def backward(self, dz):\n",
        "        if self.x > 0.:\n",
        "            return dz*1.\n",
        "        else:\n",
        "            return dz*0.\n",
        "\n",
        "    def _relu(self, x):\n",
        "        return max(0., x)"
      ],
      "execution_count": 0,
      "outputs": []
    },
    {
      "cell_type": "code",
      "metadata": {
        "id": "Xiuy6IyafewY",
        "colab_type": "code",
        "colab": {}
      },
      "source": [
        "class NeuronNode(ComputationalNode):\n",
        "\n",
        "    def __init__(self, n_inputs, activation):\n",
        "        self.n_inputs = n_inputs  # moramo da znamo kolika ima ulaza da bismo znali koliko nam treba mnozaca\n",
        "        self.multiply_nodes = []  # lista mnozaca\n",
        "        self.sum_node = SumNode()  # sabirac\n",
        "\n",
        "        # TODO 4: napraviti n_inputs mnozaca u listi mnozaca, odnosno mnozac za svaki ulaz i njemu odgovarajucu tezinu\n",
        "        # za svaki mnozac inicijalizovati tezinu na broj iz normalne (gauss) raspodele sa st. devijacijom 0.1\n",
        "        for n in range(n_inputs):\n",
        "            mn=MultiplyNode()\n",
        "            mn.x=[1., random.gauss(0., 0.1)]\n",
        "            self.multiply_nodes.append(mn)\n",
        "\n",
        "        # TODO 5: dodati jos jedan mnozac u listi mnozaca, za bias\n",
        "        # bias ulaz je uvek fiksiran na 1.\n",
        "        # bias tezinu inicijalizovati na broj iz normalne (gauss) raspodele sa st. devijacijom 0.01\n",
        "        bias=MultiplyNode()\n",
        "        bias.x=[1., random.gauss(0., 0.01)]\n",
        "        self.multiply_nodes.append(bias)\n",
        "\n",
        "        # TODO 6: ako ulazni parametar funckije 'activation' ima vrednosti 'sigmoid',\n",
        "        # inicijalizovati da aktivaciona funckija bude sigmoidalni cvor\n",
        "        self.activation_node = None\n",
        "        if activation=='sigmoid':\n",
        "            self.activation_node=SigmoidNode()\n",
        "        elif activation=='relu':\n",
        "            self.activation_node=ReLuNode()\n",
        "        self.previous_deltas=[0.]*(self.n_inputs+1)\n",
        "\n",
        "        self.gradients = []\n",
        "\n",
        "    def forward(self, x):  # x je vektor ulaza u neuron, odnosno lista skalara\n",
        "        #x = copy.copy(x)\n",
        "        x=np.append(x, 1.)  # uvek implicitino dodajemo bias=1. kao ulaz\n",
        "\n",
        "        # TODO 7: implementirati forward-pass za vestacki neuron\n",
        "        # u x se nalaze ulazi i bias neurona\n",
        "        # iskoristi forward-pass za mnozace, sabirac i aktivacionu funkciju da bi se dobio konacni izlaz iz neurona\n",
        "        for_sum=[]\n",
        "        for i, xx in enumerate(x):\n",
        "            inp=[x[i], self.multiply_nodes[i].x[1]]\n",
        "            for_sum.append(self.multiply_nodes[i].forward(inp))\n",
        "        summed=self.sum_node.forward(for_sum)\n",
        "        summed_act=self.activation_node.forward(summed)\n",
        "        return summed_act\n",
        "\n",
        "    def backward(self, dz):\n",
        "        dw = []\n",
        "        d = dz[0] if type(dz[0]) == float else sum(dz)  # u d se nalazi spoljasnji gradijent izlaza neurona\n",
        "\n",
        "        # TODO 8: implementirati backward-pass za vestacki neuron\n",
        "        # iskoristiti backward-pass za aktivacionu funkciju, sabirac i mnozace da bi se dobili gradijenti tezina neurona\n",
        "        # izracunate gradijente tezina ubaciti u listu dw\n",
        "        d=self.activation_node.backward(d)\n",
        "        d=self.sum_node.backward(d)\n",
        "        for i, dd in enumerate(d):\n",
        "            dw.append(self.multiply_nodes[i].backward(dd)[1])\n",
        "        self.gradients.append(dw)\n",
        "        return dw\n",
        "\n",
        "    def update_weights(self, learning_rate, momentum):\n",
        "        # azuriranje tezina vestackog neurona\n",
        "        # learning_rate je korak gradijenta\n",
        "\n",
        "        # TODO 11: azurirati tezine neurona (odnosno azurirati drugi parametar svih mnozaca u neuronu)\n",
        "        # gradijenti tezina se nalaze u list self.gradients\n",
        "        #raise NotImplementedError('TODO 11')\n",
        "        for i, multiply_node in enumerate(self.multiply_nodes):\n",
        "            mean_gradient=sum([grad[i] for grad in self.gradients])/len(self.gradients)\n",
        "            delta=learning_rate*mean_gradient+momentum*self.previous_deltas[i]\n",
        "            self.previous_deltas[i]=delta\n",
        "            self.multiply_nodes[i].x[1]-=delta\n",
        "        self.gradients = []  # ciscenje liste gradijenata (da sve bude cisto za sledecu iteraciju)"
      ],
      "execution_count": 0,
      "outputs": []
    },
    {
      "cell_type": "code",
      "metadata": {
        "id": "Ne_rVvOyfiU4",
        "colab_type": "code",
        "colab": {}
      },
      "source": [
        "class NeuralLayer(ComputationalNode):\n",
        "\n",
        "    def __init__(self, n_inputs, n_neurons, activation):\n",
        "        self.n_inputs = n_inputs  # broj ulaza u ovaj sloj neurona\n",
        "        self.n_neurons = n_neurons  # broj neurona u sloju (toliko ce biti i izlaza iz ovog sloja)\n",
        "        self.activation = activation  # aktivaciona funkcija neurona u ovom sloju\n",
        "\n",
        "        self.neurons = []\n",
        "        # konstruisanje sloja nuerona\n",
        "        for _ in range(n_neurons):\n",
        "            neuron = NeuronNode(n_inputs, activation)\n",
        "            self.neurons.append(neuron)\n",
        "\n",
        "    def forward(self, x):  # x je vektor, odnosno lista \"n_inputs\" elemenata\n",
        "        layer_output = []\n",
        "        # forward-pass za sloj neurona je zapravo forward-pass za svaki neuron u sloju nad zadatim ulazom x\n",
        "        for neuron in self.neurons:\n",
        "            neuron_output = neuron.forward(x)\n",
        "            layer_output.append(neuron_output)\n",
        "\n",
        "        return layer_output\n",
        "\n",
        "    def backward(self, dz):  # dz je vektor, odnosno lista \"n_neurons\" elemenata\n",
        "        dd = []\n",
        "        # backward-pass za sloj neurona je zapravo backward-pass za svaki neuron u sloju nad\n",
        "        # zadatim spoljasnjim gradijentima dz\n",
        "        print(dz[0])\n",
        "        print(len(dz))\n",
        "        print(enumerate(self.neurons))\n",
        "        for i, neuron in enumerate(self.neurons):\n",
        "            neuron_dz = [d[i] for d in dz]\n",
        "            neuron_dz = neuron.backward(neuron_dz)\n",
        "            dd.append(neuron_dz[:-1])  # izuzimamo gradijent za bias jer se on ne propagira unazad\n",
        "        return dd\n",
        "\n",
        "    def update_weights(self, learning_rate, momentum):\n",
        "        # azuriranje tezina slojeva neurona je azuriranje tezina svakog neurona u tom sloju\n",
        "        for neuron in self.neurons:\n",
        "            neuron.update_weights(learning_rate, momentum)"
      ],
      "execution_count": 0,
      "outputs": []
    },
    {
      "cell_type": "code",
      "metadata": {
        "id": "XxPyQSIvflv4",
        "colab_type": "code",
        "colab": {}
      },
      "source": [
        "class NeuralNetwork(ComputationalNode):\n",
        "\n",
        "    def __init__(self):\n",
        "        self.layers = []  # neuronska mreza se sastoji od slojeva neurona\n",
        "\n",
        "    def add(self, layer):\n",
        "        self.layers.append(layer)\n",
        "\n",
        "    def forward(self, x):  # x je vektor koji predstavlja ulaz u neuronsku mrezu\n",
        "        # TODO 9: implementirati forward-pass za celu neuronsku mrezu\n",
        "        # ulaz za prvi sloj neurona je x\n",
        "        # ulaz za sve ostale slojeve izlaz iz prethodnog sloja\n",
        "        #raise NotImplementedError('TODO 9')\n",
        "        prev_layer_output=None\n",
        "        for idx, layer in enumerate(self.layers):\n",
        "            if idx==0:\n",
        "                prev_layer_output=layer.forward(x)\n",
        "            else:\n",
        "                prev_layer_output=layer.forward(prev_layer_output)\n",
        "        return prev_layer_output\n",
        "\n",
        "    def backward(self, dz):\n",
        "        # TODO 10: implementirati forward-pass za celu neuronsku mrezu\n",
        "        # spoljasnji gradijent za izlazni sloj neurona je dz\n",
        "        # spoljasnji gradijenti za ostale slojeve su izracunati gradijenti iz sledeceg sloja\n",
        "        #raise NotImplementedError('TODO 10')\n",
        "        next_layer_dz=None\n",
        "        for idx, layer in enumerate(self.layers[::-1]):\n",
        "            if idx==0:\n",
        "                next_layer_dz=layer.backward(dz)\n",
        "            else:\n",
        "                next_layer_dz=layer.backward(next_layer_dz)\n",
        "        return next_layer_dz\n",
        "\n",
        "    def update_weights(self, learning_rate, momentum):\n",
        "        # azuriranje tezina neuronske mreze je azuriranje tezina slojeva\n",
        "        for layer in self.layers:\n",
        "            layer.update_weights(learning_rate, momentum)\n",
        "\n",
        "    def fit(self, X, Y, learning_rate=0.1, momentum=0.0, nb_epochs=10, shuffle=False, verbose=0):\n",
        "        assert len(X) == len(Y)\n",
        "\n",
        "        hist = []  # za plotovanje funkcije greske kroz epohe\n",
        "        for epoch in range(nb_epochs):\n",
        "\n",
        "            if shuffle:  # izmesati podatke\n",
        "                random.seed(epoch)\n",
        "                random.shuffle(X)\n",
        "                random.seed(epoch)\n",
        "                random.shuffle(Y)\n",
        "\n",
        "            total_loss = 0.0\n",
        "            for x, y in zip(X, Y):\n",
        "                y_pred = self.forward(x)  # forward-pass da izracunamo izlaz\n",
        "                y_target = y  # zeljeni izlaz\n",
        "                grad = 0.0\n",
        "                for p, t in zip(y_pred, y_target):\n",
        "                    total_loss += 0.5 * (t - p) ** 2.  # funkcija greske je kvadratna greska\n",
        "                    grad += -(t - p)  # gradijent funkcije greske u odnosu na izlaz\n",
        "                # backward-pass da izracunamo gradijente tezina\n",
        "                self.backward([[grad]])\n",
        "                # azuriranje tezina na osnovu izracunatih gradijenata i koraka \"learning_rate\"\n",
        "                self.update_weights(learning_rate, momentum)\n",
        "\n",
        "            if verbose == 1:\n",
        "                print('Epoch {0}: loss {1}'.format(epoch + 1, total_loss))\n",
        "\n",
        "            hist.append(total_loss)\n",
        "\n",
        "        print('Loss: {0}'.format(total_loss))\n",
        "        return hist\n",
        "\n",
        "    def predict(self, x):\n",
        "        return self.forward(x)"
      ],
      "execution_count": 0,
      "outputs": []
    },
    {
      "cell_type": "markdown",
      "metadata": {
        "id": "fU1189hBgI4m",
        "colab_type": "text"
      },
      "source": [
        "##Model"
      ]
    },
    {
      "cell_type": "code",
      "metadata": {
        "id": "-uRl0PN8n3sJ",
        "colab_type": "code",
        "colab": {}
      },
      "source": [
        ""
      ],
      "execution_count": 0,
      "outputs": []
    },
    {
      "cell_type": "code",
      "metadata": {
        "id": "-FddXtv6frtL",
        "colab_type": "code",
        "colab": {}
      },
      "source": [
        "nn = NeuralNetwork()\n",
        "\n",
        "nn.add(NeuralLayer(VOCAB_SIZE, VOCAB_SIZE, 'relu'))\n",
        "nn.add(NeuralLayer(VOCAB_SIZE, 125, 'relu'))\n",
        "nn.add(NeuralLayer(125, 25, 'relu'))\n",
        "nn.add(NeuralLayer(25, 2, 'relu'))\n",
        "print(train_vectors)\n",
        "history = nn.fit(train_vectors, y_train, learning_rate=0.75, nb_epochs=3, shuffle=True)"
      ],
      "execution_count": 0,
      "outputs": []
    },
    {
      "cell_type": "code",
      "metadata": {
        "id": "uOXaQ2o_noZF",
        "colab_type": "code",
        "colab": {}
      },
      "source": [
        "del nn"
      ],
      "execution_count": 0,
      "outputs": []
    }
  ]
}