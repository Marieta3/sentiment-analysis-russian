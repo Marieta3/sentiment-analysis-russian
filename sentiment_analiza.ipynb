{
  "nbformat": 4,
  "nbformat_minor": 0,
  "metadata": {
    "colab": {
      "name": "sentiment_analiza.ipynb",
      "version": "0.3.2",
      "provenance": [],
      "toc_visible": true,
      "include_colab_link": true
    },
    "kernelspec": {
      "name": "python3",
      "display_name": "Python 3"
    },
    "accelerator": "GPU"
  },
  "cells": [
    {
      "cell_type": "markdown",
      "metadata": {
        "id": "view-in-github",
        "colab_type": "text"
      },
      "source": [
        "<a href=\"https://colab.research.google.com/github/Marieta3/sentiment-analysis-russian/blob/master/sentiment_analiza.ipynb\" target=\"_parent\"><img src=\"https://colab.research.google.com/assets/colab-badge.svg\" alt=\"Open In Colab\"/></a>"
      ]
    },
    {
      "cell_type": "markdown",
      "metadata": {
        "id": "SO48X-vVYvqA",
        "colab_type": "text"
      },
      "source": [
        "#Analiza sentimenta tvitova na ruskom jeziku\n"
      ]
    },
    {
      "cell_type": "markdown",
      "metadata": {
        "id": "0wdrXyqYaF3m",
        "colab_type": "text"
      },
      "source": [
        "##Importovanje potrebnih biblioteka"
      ]
    },
    {
      "cell_type": "code",
      "metadata": {
        "id": "kDhxIyKxYilj",
        "colab_type": "code",
        "colab": {}
      },
      "source": [
        "import tensorflow as tf\n",
        "import tflearn\n",
        "import pandas as pd\n",
        "import nltk \n",
        "nltk.download('stopwords')\n",
        "from nltk.corpus import stopwords\n",
        "from nltk.stem.snowball import RussianStemmer\n",
        "from nltk.tokenize import TweetTokenizer\n",
        "import re\n",
        "from collections import Counter\n",
        "from datetime import datetime\n",
        "import numpy as np\n",
        "from tflearn.data_utils import to_categorical"
      ],
      "execution_count": 0,
      "outputs": []
    },
    {
      "cell_type": "code",
      "metadata": {
        "id": "FL9pz3nqR6Nw",
        "colab_type": "code",
        "colab": {}
      },
      "source": [
        "from tensorflow.python.keras.models import Sequential\n",
        "from tensorflow.python.keras.layers import Dense, GRU, Embedding\n",
        "from tensorflow.python.keras.optimizers import Adam\n",
        "from tensorflow.python.keras.preprocessing.text import Tokenizer\n",
        "from tensorflow.python.keras.preprocessing.sequence import pad_sequences"
      ],
      "execution_count": 0,
      "outputs": []
    },
    {
      "cell_type": "markdown",
      "metadata": {
        "id": "Z5c2hb8ue_hh",
        "colab_type": "text"
      },
      "source": [
        "##Import za custom nn"
      ]
    },
    {
      "cell_type": "code",
      "metadata": {
        "id": "gmRJ3HF-fDQJ",
        "colab_type": "code",
        "colab": {}
      },
      "source": [
        "from __future__ import print_function\n",
        "\n",
        "from abc import abstractmethod\n",
        "import math\n",
        "import random\n",
        "import copy"
      ],
      "execution_count": 0,
      "outputs": []
    },
    {
      "cell_type": "markdown",
      "metadata": {
        "id": "nCqffu4Bxlo1",
        "colab_type": "text"
      },
      "source": [
        "##Konstante"
      ]
    },
    {
      "cell_type": "code",
      "metadata": {
        "id": "K4ZI_CHOxpN9",
        "colab_type": "code",
        "colab": {}
      },
      "source": [
        "VOCAB_SIZE = 5000\n",
        "MANJI_DEO = True\n",
        "MANJI_RANDOM = False\n",
        "TEST_SIZE = 0.3\n",
        "KOLICINA = 50000"
      ],
      "execution_count": 0,
      "outputs": []
    },
    {
      "cell_type": "markdown",
      "metadata": {
        "id": "oPmbdnVAbxWy",
        "colab_type": "text"
      },
      "source": [
        "##Učitavanje podataka"
      ]
    },
    {
      "cell_type": "code",
      "metadata": {
        "id": "1C3wqmvKb0xZ",
        "colab_type": "code",
        "colab": {}
      },
      "source": [
        "col = 3 #kolona koja sadrzi tvit, ostale kolone nisu potrebne\n",
        "\n",
        "if(MANJI_DEO):\n",
        "  positive = pd.read_csv(\n",
        "      'https://raw.githubusercontent.com/Marieta3/sentiment-analysis-russian/master/positive.csv', header=None, delimiter=';')[[col]].head(KOLICINA);\n",
        "  negative = pd.read_csv(\n",
        "      'https://raw.githubusercontent.com/Marieta3/sentiment-analysis-russian/master/negative.csv', header=None, delimiter=';')[[col]].head(KOLICINA);\n",
        "elif (MANJI_RANDOM):\n",
        "  positive = pd.read_csv(\n",
        "      'https://raw.githubusercontent.com/Marieta3/sentiment-analysis-russian/master/positive.csv', header=None, delimiter=';')[[col]].sample(KOLICINA);\n",
        "  negative = pd.read_csv(\n",
        "      'https://raw.githubusercontent.com/Marieta3/sentiment-analysis-russian/master/negative.csv', header=None, delimiter=';')[[col]].sample(KOLICINA);\n",
        "else:\n",
        "  positive = pd.read_csv(\n",
        "      'https://raw.githubusercontent.com/Marieta3/sentiment-analysis-russian/master/positive.csv', header=None, delimiter=';')[[col]];\n",
        "  negative = pd.read_csv(\n",
        "      'https://raw.githubusercontent.com/Marieta3/sentiment-analysis-russian/master/negative.csv', header=None, delimiter=';')[[col]];  "
      ],
      "execution_count": 0,
      "outputs": []
    },
    {
      "cell_type": "markdown",
      "metadata": {
        "id": "XkZH1Ig3gBAa",
        "colab_type": "text"
      },
      "source": [
        "##Testiranje učitanih podataka\n"
      ]
    },
    {
      "cell_type": "code",
      "metadata": {
        "id": "C4QZF7nogJnx",
        "colab_type": "code",
        "outputId": "1028944c-3d95-4c3c-dabc-ed58aba1dea6",
        "colab": {
          "base_uri": "https://localhost:8080/",
          "height": 51
        }
      },
      "source": [
        "print('Pozitivnih tvitova: ' +str(len(positive)))\n",
        "print('Negativnih tvitova: ' +str(len(negative)))\n"
      ],
      "execution_count": 120,
      "outputs": [
        {
          "output_type": "stream",
          "text": [
            "Pozitivnih tvitova: 50000\n",
            "Negativnih tvitova: 50000\n"
          ],
          "name": "stdout"
        }
      ]
    },
    {
      "cell_type": "markdown",
      "metadata": {
        "id": "AzLm5qPSExXJ",
        "colab_type": "text"
      },
      "source": [
        "##Izvlačenje osnovnog oblika iz tokena"
      ]
    },
    {
      "cell_type": "code",
      "metadata": {
        "id": "kvVDMhUME2t_",
        "colab_type": "code",
        "outputId": "29086fac-3eca-44da-aa45-5139d4065124",
        "colab": {
          "base_uri": "https://localhost:8080/",
          "height": 34
        }
      },
      "source": [
        "stemmer = RussianStemmer()\n",
        "stem_cache={}  #smanjuje vreme izvršavanja, ako se reč već pojavljivala, samo je uzmemo iz liste\n",
        "def get_stem(token):\n",
        "  stem =stem_cache.get(token, None)\n",
        "  if stem:\n",
        "    return stem\n",
        "  \n",
        "  token=re.sub('[^а-яА-Я ]', '', token)  #samo slova\n",
        "  stem=stemmer.stem(token)\n",
        "  stem_cache[token]=stem\n",
        "  return stem\n",
        "get_stem('!')"
      ],
      "execution_count": 121,
      "outputs": [
        {
          "output_type": "execute_result",
          "data": {
            "text/plain": [
              "''"
            ]
          },
          "metadata": {
            "tags": []
          },
          "execution_count": 121
        }
      ]
    },
    {
      "cell_type": "markdown",
      "metadata": {
        "id": "YO8j8DF6Fd-l",
        "colab_type": "text"
      },
      "source": [
        "##Tokenizacija"
      ]
    },
    {
      "cell_type": "code",
      "metadata": {
        "id": "EiWULz3ZFjwy",
        "colab_type": "code",
        "colab": {}
      },
      "source": [
        "recnik = Counter()\n",
        "tokenizer = TweetTokenizer()\n",
        "stop_words = stopwords.words('russian')\n",
        "\n",
        "def popuni_recnik(tweets):\n",
        "  for t in tweets.values.tolist():\n",
        "    #print(t[0])\n",
        "    tweet=t[0]\n",
        "    \n",
        "    tokens=tokenizer.tokenize(tweet)\n",
        "    for token in tokens:\n",
        "      stem=get_stem(token)\n",
        "      if stem!='' and stem not in stop_words and token not in stop_words:\n",
        "        recnik[stem]+=1\n",
        "    \n",
        "start_time=datetime.now()  \n",
        "popuni_recnik(positive)\n",
        "popuni_recnik(negative)\n",
        "end_time=datetime.now()"
      ],
      "execution_count": 0,
      "outputs": []
    },
    {
      "cell_type": "code",
      "metadata": {
        "id": "uzMO23AKJ3kS",
        "colab_type": "code",
        "outputId": "001fbb93-25a2-4922-9001-6ed0b43b445f",
        "colab": {
          "base_uri": "https://localhost:8080/",
          "height": 51
        }
      },
      "source": [
        "print('Потребно време за попуњавање речника: ', end_time-start_time)\n",
        "print(\"Укупан број различитих речи: \", len(recnik))\n"
      ],
      "execution_count": 123,
      "outputs": [
        {
          "output_type": "stream",
          "text": [
            "Потребно време за попуњавање речника:  0:00:50.099191\n",
            "Укупан број различитих речи:  56251\n"
          ],
          "name": "stdout"
        }
      ]
    },
    {
      "cell_type": "code",
      "metadata": {
        "id": "wbbGM9-N_AOO",
        "colab_type": "code",
        "colab": {}
      },
      "source": [
        "vocab = sorted(recnik, key=recnik.get, reverse=True)[:VOCAB_SIZE]  #сортирано по броју понављања опадајуће, првих 5000"
      ],
      "execution_count": 0,
      "outputs": []
    },
    {
      "cell_type": "code",
      "metadata": {
        "id": "U_d71VU5_D7v",
        "colab_type": "code",
        "outputId": "d7f0a719-70d4-4be0-b62d-1578f34369bb",
        "colab": {
          "base_uri": "https://localhost:8080/",
          "height": 105
        }
      },
      "source": [
        "print(vocab[:10])\n",
        "print(vocab[1000:1020])\n",
        "print(vocab[-10:])\n",
        "print(\"Дужина скраћеног речника: \",len(vocab))"
      ],
      "execution_count": 179,
      "outputs": [
        {
          "output_type": "stream",
          "text": [
            "['эт', 'сегодн', 'прост', 'мо', 'хоч', 'очен', 'ден', 'теб', 'буд', 'дом']\n",
            "['выигра', 'матч', 'непонятн', 'детск', 'взросл', 'ждем', 'помо', 'всегд', 'пьян', 'губ', 'какиет', 'совершен', 'познаком', 'чуд', 'мнен', 'лев', 'парол', 'созда', 'осен', 'наоборот']\n",
            "['нагрузк', 'спасл', 'гриш', 'потянул', 'креативн', 'кран', 'уголовн', 'доброт', 'футбольн', 'отреза']\n",
            "Дужина скраћеног речника:  5000\n"
          ],
          "name": "stdout"
        }
      ]
    },
    {
      "cell_type": "code",
      "metadata": {
        "id": "6BeRDDPX23AF",
        "colab_type": "code",
        "outputId": "0758603b-258d-480e-9a78-655143247fea",
        "colab": {
          "base_uri": "https://localhost:8080/",
          "height": 34
        }
      },
      "source": [
        "idx=5000-1\n",
        "print(\"Reč: \", vocab[idx], \" se pojavila \", recnik.get(vocab[idx]), \" puta\")\n",
        "\n",
        "\n"
      ],
      "execution_count": 180,
      "outputs": [
        {
          "output_type": "stream",
          "text": [
            "Reč:  отреза  se pojavila  15  puta\n"
          ],
          "name": "stdout"
        }
      ]
    },
    {
      "cell_type": "code",
      "metadata": {
        "id": "TLfWZLklXSCC",
        "colab_type": "code",
        "colab": {}
      },
      "source": [
        "token_to_idx = {vocab[i] : i for i in range(VOCAB_SIZE)}\n",
        "print(token_to_idx.get('', None))\n",
        "print(token_to_idx)"
      ],
      "execution_count": 0,
      "outputs": []
    },
    {
      "cell_type": "markdown",
      "metadata": {
        "id": "QNEcvknB8TgQ",
        "colab_type": "text"
      },
      "source": [
        "##Pretvaranje tvita u vektor\n",
        "\n",
        "*   vektor je duzine broja reci u recniku (5000)\n",
        "*   ukoliko tvit sadrzi rec koja se nalazi u recniku, na odgovarajucem mestu u vektoru se nalazi jedinica; u suprotnom nula\n"
      ]
    },
    {
      "cell_type": "code",
      "metadata": {
        "id": "RcANZxS28Qh5",
        "colab_type": "code",
        "colab": {}
      },
      "source": [
        "def tweet_to_vector(tweet, print_unknown=False):\n",
        "  vector=np.zeros(VOCAB_SIZE, dtype=int)\n",
        "  for token in tokenizer.tokenize(tweet):\n",
        "    stem=get_stem(token)\n",
        "    idx=token_to_idx.get(stem, None)\n",
        "    if idx is not None:\n",
        "      vector[idx]=1\n",
        "    else:\n",
        "      if(print_unknown):\n",
        "        print('Nepoznata rec: ', token)\n",
        "  return vector\n",
        "    "
      ],
      "execution_count": 0,
      "outputs": []
    },
    {
      "cell_type": "code",
      "metadata": {
        "id": "dQPlylXrE-zQ",
        "colab_type": "code",
        "colab": {}
      },
      "source": [
        "def tweet_to_vector1(tweet, print_unknown=False):\n",
        "  tokenized=tokenizer.tokenize(tweet)\n",
        "  \n",
        "  #vector=np.zeros(len(tokenized), dtype=int)\n",
        "  vector=[0]*len(tokenized)\n",
        "  cnt=0\n",
        "  for token in tokenized:\n",
        "    stem=get_stem(token)\n",
        "    idx=token_to_idx.get(stem, None)\n",
        "    if idx is not None:\n",
        "      vector[cnt]=idx\n",
        "      cnt+=1\n",
        "    else:\n",
        "      cnt+=1\n",
        "      if(print_unknown):\n",
        "        print('Nepoznata rec: ', token)\n",
        "  return vector\n",
        "\n"
      ],
      "execution_count": 0,
      "outputs": []
    },
    {
      "cell_type": "code",
      "metadata": {
        "id": "YZTSxwSJ9a7Y",
        "colab_type": "code",
        "outputId": "c13d2522-fe87-4395-b21b-df7b10b013bd",
        "colab": {
          "base_uri": "https://localhost:8080/",
          "height": 85
        }
      },
      "source": [
        "tw_idx=1\n",
        "pos_tws=positive.values.tolist()\n",
        "neg_tws=negative.values.tolist()\n",
        "print(\"tweet: {}\".format(pos_tws[tw_idx][0]))\n",
        "print(\"tweet: {}\".format(tweet_to_vector(pos_tws[tw_idx][0])[:10]))\n",
        "print(\"tweet: {}\".format(neg_tws[tw_idx][0]))\n",
        "print(\"tweet: {}\".format(tweet_to_vector(neg_tws[tw_idx][0])[:10]))"
      ],
      "execution_count": 183,
      "outputs": [
        {
          "output_type": "stream",
          "text": [
            "tweet: Да, все-таки он немного похож на него. Но мой мальчик все равно лучше:D\n",
            "tweet: [0 0 0 1 0 0 0 0 0 0]\n",
            "tweet: Коллеги сидят рубятся в Urban terror, а я из-за долбанной винды не могу :(\n",
            "tweet: [0 0 0 0 0 0 0 0 0 0]\n"
          ],
          "name": "stdout"
        }
      ]
    },
    {
      "cell_type": "code",
      "metadata": {
        "id": "bS5izeQ1rOK2",
        "colab_type": "code",
        "colab": {}
      },
      "source": [
        "try:\n",
        "  del train_vectors\n",
        "  del test_vectors\n",
        "except:\n",
        "  print('Nije definisano')\n",
        "  \n",
        "train_size = round((len(negative) + len(positive))*(1-TEST_SIZE))\n",
        "test_size = len(negative) + len(positive) - train_size\n"
      ],
      "execution_count": 0,
      "outputs": []
    },
    {
      "cell_type": "code",
      "metadata": {
        "id": "rD1oy5_e_1Xb",
        "colab_type": "code",
        "colab": {}
      },
      "source": [
        "train_vectors = np.zeros((train_size, VOCAB_SIZE), dtype=np.int_)\n",
        "test_vectors = np.zeros((test_size, VOCAB_SIZE), dtype=np.int_)"
      ],
      "execution_count": 0,
      "outputs": []
    },
    {
      "cell_type": "code",
      "metadata": {
        "id": "RwcRRrxXD05C",
        "colab_type": "code",
        "colab": {}
      },
      "source": [
        "tweets=[]\n",
        "cnt=0\n",
        "cnt2=0\n",
        "\n",
        "train_pos_size = round(len(positive)*(1-TEST_SIZE))\n",
        "train_neg_size = round(len(negative)*(1-TEST_SIZE))\n",
        "\n",
        "for tweet in negative.values.tolist():\n",
        "  #print(tweet[0])\n",
        "  tweets.append(tweet[0])\n",
        "  if cnt < train_neg_size:\n",
        "    train_vectors[cnt]=tweet_to_vector(tweet[0])\n",
        "    cnt+=1\n",
        "  else:\n",
        "    test_vectors[cnt2]=tweet_to_vector(tweet[0])\n",
        "    cnt2+=1\n",
        "for tweet in positive.values.tolist():\n",
        "  tweets.append(tweet[0])\n",
        "  if cnt < train_neg_size + train_pos_size:\n",
        "    train_vectors[cnt]=tweet_to_vector(tweet[0])\n",
        "    cnt+=1\n",
        "  else:\n",
        "    test_vectors[cnt2]=tweet_to_vector(tweet[0])\n",
        "    cnt2+=1\n"
      ],
      "execution_count": 0,
      "outputs": []
    },
    {
      "cell_type": "code",
      "metadata": {
        "id": "KnjMgroLOcx8",
        "colab_type": "code",
        "outputId": "c75fcc31-bb5d-4455-9997-7adcf0f8438d",
        "colab": {
          "base_uri": "https://localhost:8080/",
          "height": 85
        }
      },
      "source": [
        "print(len(train_vectors))\n",
        "print(len(train_vectors[0]))\n",
        "print(test_vectors[:2])"
      ],
      "execution_count": 187,
      "outputs": [
        {
          "output_type": "stream",
          "text": [
            "70000\n",
            "5000\n",
            "[[0 0 0 ... 0 0 0]\n",
            " [0 0 0 ... 0 0 0]]\n"
          ],
          "name": "stdout"
        }
      ]
    },
    {
      "cell_type": "markdown",
      "metadata": {
        "id": "Xq5YN7JDKsdd",
        "colab_type": "text"
      },
      "source": [
        "##Brisanje vektora tvitova"
      ]
    },
    {
      "cell_type": "code",
      "metadata": {
        "id": "P4Z9BNN-70jM",
        "colab_type": "code",
        "colab": {}
      },
      "source": [
        "del train_vectors\n",
        "del test_vectors"
      ],
      "execution_count": 0,
      "outputs": []
    },
    {
      "cell_type": "markdown",
      "metadata": {
        "id": "hXCdZAaqK2tj",
        "colab_type": "text"
      },
      "source": [
        "##Labele"
      ]
    },
    {
      "cell_type": "code",
      "metadata": {
        "id": "4Z1l3gvGEH9b",
        "colab_type": "code",
        "colab": {}
      },
      "source": [
        "#labels = np.append(np.zeros(len(negative), dtype=np.int_), np.ones(len(positive), dtype=np.int_))\n",
        "\n",
        "train_labels = np.append(\n",
        "    np.zeros(train_neg_size, dtype=np.int_), \n",
        "    np.ones(train_pos_size, dtype=np.int_))\n",
        "\n",
        "test_labels = np.append(\n",
        "    np.zeros(len(negative) - train_neg_size, dtype=np.int_), \n",
        "    np.ones(len(positive) - train_pos_size, dtype=np.int_))"
      ],
      "execution_count": 0,
      "outputs": []
    },
    {
      "cell_type": "code",
      "metadata": {
        "id": "7NtHGCL2wXhw",
        "colab_type": "code",
        "colab": {}
      },
      "source": [
        "y_train = to_categorical(train_labels, 2)\n",
        "y_test = to_categorical(test_labels, 2)\n"
      ],
      "execution_count": 0,
      "outputs": []
    },
    {
      "cell_type": "code",
      "metadata": {
        "id": "gTA-XriEUfJ7",
        "colab_type": "code",
        "colab": {
          "base_uri": "https://localhost:8080/",
          "height": 34
        },
        "outputId": "15550c59-0915-4c51-f07c-8a9a8eadb3e3"
      },
      "source": [
        "train_labels[50000]"
      ],
      "execution_count": 190,
      "outputs": [
        {
          "output_type": "execute_result",
          "data": {
            "text/plain": [
              "1"
            ]
          },
          "metadata": {
            "tags": []
          },
          "execution_count": 190
        }
      ]
    },
    {
      "cell_type": "markdown",
      "metadata": {
        "id": "YMYqzARpwmOX",
        "colab_type": "text"
      },
      "source": [
        "##Kreiranje NN modela"
      ]
    },
    {
      "cell_type": "code",
      "metadata": {
        "id": "O1meOTMhwoQk",
        "colab_type": "code",
        "colab": {}
      },
      "source": [
        "def build_model(learning_rate=0.1):\n",
        "    tf.reset_default_graph()\n",
        "    \n",
        "    net = tflearn.input_data([None, VOCAB_SIZE])\n",
        "    net = tflearn.fully_connected(net, 125, activation='ReLU')\n",
        "    net = tflearn.fully_connected(net, 25, activation='ReLU')\n",
        "    net = tflearn.fully_connected(net, 2, activation='softmax')\n",
        "    regression = tflearn.regression(\n",
        "        net, \n",
        "        optimizer='sgd', \n",
        "        learning_rate=learning_rate, \n",
        "        loss='categorical_crossentropy')\n",
        "    \n",
        "    model = tflearn.DNN(net)\n",
        "    return model"
      ],
      "execution_count": 0,
      "outputs": []
    },
    {
      "cell_type": "code",
      "metadata": {
        "id": "j7-OoTVww4Ov",
        "colab_type": "code",
        "colab": {}
      },
      "source": [
        "\n",
        "model = build_model(learning_rate=0.75)"
      ],
      "execution_count": 0,
      "outputs": []
    },
    {
      "cell_type": "code",
      "metadata": {
        "id": "teB6f76gw6wF",
        "colab_type": "code",
        "outputId": "80cc67f9-e1f5-477a-8f2c-494bf4136ee9",
        "colab": {
          "base_uri": "https://localhost:8080/",
          "height": 102
        }
      },
      "source": [
        "model.fit(\n",
        "    train_vectors, \n",
        "    y_train, \n",
        "    validation_set=0.1, \n",
        "    show_metric=True, \n",
        "    batch_size=128, \n",
        "    n_epoch=3)"
      ],
      "execution_count": 193,
      "outputs": [
        {
          "output_type": "stream",
          "text": [
            "Training Step: 1478  | total loss: \u001b[1m\u001b[32m0.50317\u001b[0m\u001b[0m | time: 5.174s\n",
            "| SGD | epoch: 003 | loss: 0.50317 - acc: 0.7473 -- iter: 62976/63000\n",
            "Training Step: 1479  | total loss: \u001b[1m\u001b[32m0.49778\u001b[0m\u001b[0m | time: 6.243s\n",
            "| SGD | epoch: 003 | loss: 0.49778 - acc: 0.7499 | val_loss: 0.58318 - val_acc: 0.6933 -- iter: 63000/63000\n",
            "--\n"
          ],
          "name": "stdout"
        }
      ]
    },
    {
      "cell_type": "markdown",
      "metadata": {
        "id": "UIwFunW65TS3",
        "colab_type": "text"
      },
      "source": [
        "##Kreiranje RNN modela"
      ]
    },
    {
      "cell_type": "code",
      "metadata": {
        "id": "k3QhF36d5dgK",
        "colab_type": "code",
        "colab": {}
      },
      "source": [
        "train_vectors = [0]*train_size\n",
        "test_vectors = [0]*test_size\n"
      ],
      "execution_count": 0,
      "outputs": []
    },
    {
      "cell_type": "code",
      "metadata": {
        "id": "idPj3kfw5n7G",
        "colab_type": "code",
        "colab": {}
      },
      "source": [
        "tweets=[]\n",
        "cnt=0\n",
        "cnt2=0\n",
        "\n",
        "train_pos_size = round(len(positive)*(1-TEST_SIZE))\n",
        "train_neg_size = round(len(negative)*(1-TEST_SIZE))\n",
        "\n",
        "for tweet in negative.values.tolist():\n",
        "  #print(tweet[0])\n",
        "  tweets.append(tweet[0])\n",
        "  if cnt < train_neg_size:\n",
        "    train_vectors[cnt]=tweet_to_vector1(tweet[0])\n",
        "    cnt+=1\n",
        "  else:\n",
        "    test_vectors[cnt2]=tweet_to_vector1(tweet[0])\n",
        "    cnt2+=1\n",
        "for tweet in positive.values.tolist():\n",
        "  tweets.append(tweet[0])\n",
        "  if cnt < train_neg_size + train_pos_size:\n",
        "    train_vectors[cnt]=tweet_to_vector1(tweet[0])\n",
        "    cnt+=1\n",
        "  else:\n",
        "    test_vectors[cnt2]=tweet_to_vector1(tweet[0])\n",
        "    cnt2+=1\n"
      ],
      "execution_count": 0,
      "outputs": []
    },
    {
      "cell_type": "code",
      "metadata": {
        "id": "mZ9rMwJ359Bb",
        "colab_type": "code",
        "colab": {}
      },
      "source": [
        "num_tokens = [len(tokens) for tokens in train_vectors + test_vectors]\n",
        "num_tokens = np.array(num_tokens)"
      ],
      "execution_count": 0,
      "outputs": []
    },
    {
      "cell_type": "code",
      "metadata": {
        "id": "cdLj964_RGzP",
        "colab_type": "code",
        "colab": {
          "base_uri": "https://localhost:8080/",
          "height": 34
        },
        "outputId": "e840c82a-32f5-4df3-9110-8e8959bf0077"
      },
      "source": [
        "np.mean(num_tokens)"
      ],
      "execution_count": 144,
      "outputs": [
        {
          "output_type": "execute_result",
          "data": {
            "text/plain": [
              "16.14727"
            ]
          },
          "metadata": {
            "tags": []
          },
          "execution_count": 144
        }
      ]
    },
    {
      "cell_type": "code",
      "metadata": {
        "id": "-ajyFiIFRL9_",
        "colab_type": "code",
        "colab": {
          "base_uri": "https://localhost:8080/",
          "height": 34
        },
        "outputId": "97181572-fb1e-4ec3-8264-db1f5fec3a35"
      },
      "source": [
        "np.max(num_tokens)"
      ],
      "execution_count": 145,
      "outputs": [
        {
          "output_type": "execute_result",
          "data": {
            "text/plain": [
              "63"
            ]
          },
          "metadata": {
            "tags": []
          },
          "execution_count": 145
        }
      ]
    },
    {
      "cell_type": "code",
      "metadata": {
        "id": "g3iEpI0URRxc",
        "colab_type": "code",
        "colab": {
          "base_uri": "https://localhost:8080/",
          "height": 34
        },
        "outputId": "a8336f55-358a-44d7-9f33-71b7f41857f6"
      },
      "source": [
        "\n",
        "max_tokens = np.mean(num_tokens) + 2 * np.std(num_tokens)\n",
        "max_tokens = int(max_tokens)\n",
        "max_tokens"
      ],
      "execution_count": 146,
      "outputs": [
        {
          "output_type": "execute_result",
          "data": {
            "text/plain": [
              "28"
            ]
          },
          "metadata": {
            "tags": []
          },
          "execution_count": 146
        }
      ]
    },
    {
      "cell_type": "code",
      "metadata": {
        "id": "fQyqbzS3RWNn",
        "colab_type": "code",
        "colab": {
          "base_uri": "https://localhost:8080/",
          "height": 34
        },
        "outputId": "a0189b69-10da-436a-cdd8-86d04cf07bde"
      },
      "source": [
        "np.sum(num_tokens < max_tokens) / len(num_tokens)"
      ],
      "execution_count": 147,
      "outputs": [
        {
          "output_type": "execute_result",
          "data": {
            "text/plain": [
              "0.94413"
            ]
          },
          "metadata": {
            "tags": []
          },
          "execution_count": 147
        }
      ]
    },
    {
      "cell_type": "code",
      "metadata": {
        "id": "2_X1sh9aRgDI",
        "colab_type": "code",
        "colab": {}
      },
      "source": [
        "pad = 'pre'\n",
        "x_train_pad = pad_sequences(train_vectors, maxlen=max_tokens,\n",
        "                            padding=pad, truncating=pad)\n",
        "\n",
        "x_test_pad = pad_sequences(test_vectors, maxlen=max_tokens,\n",
        "                           padding=pad, truncating=pad)"
      ],
      "execution_count": 0,
      "outputs": []
    },
    {
      "cell_type": "code",
      "metadata": {
        "id": "7LF6252USizM",
        "colab_type": "code",
        "colab": {}
      },
      "source": [
        "def build_RNN():\n",
        "  model = Sequential()\n",
        "  model.add(Embedding(input_dim=VOCAB_SIZE,\n",
        "                    output_dim=8,\n",
        "                    input_length=max_tokens,\n",
        "                    name='layer_embedding'))\n",
        "  model.add(GRU(units=16, return_sequences=True))\n",
        "  model.add(GRU(units=8, return_sequences=True))\n",
        "  model.add(GRU(units=4))\n",
        "  model.add(Dense(1, activation='sigmoid'))\n",
        "  \n",
        "  return model"
      ],
      "execution_count": 0,
      "outputs": []
    },
    {
      "cell_type": "code",
      "metadata": {
        "id": "G8nEf0cJTJDA",
        "colab_type": "code",
        "colab": {}
      },
      "source": [
        "model_rnn=build_RNN()\n",
        "optimizer = Adam(lr=1e-3)\n",
        "model_rnn.compile(loss='binary_crossentropy',\n",
        "              optimizer=optimizer,\n",
        "              metrics=['accuracy'])"
      ],
      "execution_count": 0,
      "outputs": []
    },
    {
      "cell_type": "code",
      "metadata": {
        "id": "b-1pATCiT60b",
        "colab_type": "code",
        "colab": {
          "base_uri": "https://localhost:8080/",
          "height": 153
        },
        "outputId": "8a34286c-248c-428b-9104-42d5b956be36"
      },
      "source": [
        "model_rnn.fit(x_train_pad, train_labels,\n",
        "          validation_split=0.05, epochs=3, batch_size=128)"
      ],
      "execution_count": 174,
      "outputs": [
        {
          "output_type": "stream",
          "text": [
            "Train on 66500 samples, validate on 3500 samples\n",
            "Epoch 1/3\n",
            "66500/66500 [==============================] - 99s 1ms/sample - loss: 0.6063 - acc: 0.6525 - val_loss: 0.6382 - val_acc: 0.6446\n",
            "Epoch 2/3\n",
            "66500/66500 [==============================] - 91s 1ms/sample - loss: 0.5308 - acc: 0.7342 - val_loss: 0.6493 - val_acc: 0.6537\n",
            "Epoch 3/3\n",
            "66500/66500 [==============================] - 96s 1ms/sample - loss: 0.5166 - acc: 0.7447 - val_loss: 0.7023 - val_acc: 0.6026\n"
          ],
          "name": "stdout"
        },
        {
          "output_type": "execute_result",
          "data": {
            "text/plain": [
              "<tensorflow.python.keras.callbacks.History at 0x7f175723a9b0>"
            ]
          },
          "metadata": {
            "tags": []
          },
          "execution_count": 174
        }
      ]
    },
    {
      "cell_type": "code",
      "metadata": {
        "id": "npXd036xWlV6",
        "colab_type": "code",
        "colab": {}
      },
      "source": [
        "result = model_rnn.evaluate(x_test_pad, test_labels)"
      ],
      "execution_count": 0,
      "outputs": []
    },
    {
      "cell_type": "code",
      "metadata": {
        "id": "D1NoK6W159ur",
        "colab_type": "code",
        "colab": {
          "base_uri": "https://localhost:8080/",
          "height": 34
        },
        "outputId": "7e19c155-880f-41dc-975a-6f9048d37076"
      },
      "source": [
        "print(\"Accuracy: {0:.2%}\".format(result[1]))"
      ],
      "execution_count": 176,
      "outputs": [
        {
          "output_type": "stream",
          "text": [
            "Accuracy: 68.25%\n"
          ],
          "name": "stdout"
        }
      ]
    },
    {
      "cell_type": "markdown",
      "metadata": {
        "id": "Zw3DzYX0L2pB",
        "colab_type": "text"
      },
      "source": [
        "##Testiranje"
      ]
    },
    {
      "cell_type": "code",
      "metadata": {
        "id": "hnAHUYihL5nY",
        "colab_type": "code",
        "outputId": "30a4fe26-4191-4144-eec0-0f86c810cccb",
        "colab": {
          "base_uri": "https://localhost:8080/",
          "height": 34
        }
      },
      "source": [
        "predictions = (np.array(model.predict(test_vectors))[:,0] >= 0.5).astype(np.int_)\n",
        "accuracy = np.mean(predictions == y_test[:,0], axis=0)\n",
        "print(\"Accuracy: \", accuracy)"
      ],
      "execution_count": 194,
      "outputs": [
        {
          "output_type": "stream",
          "text": [
            "Accuracy:  0.6844\n"
          ],
          "name": "stdout"
        }
      ]
    },
    {
      "cell_type": "code",
      "metadata": {
        "id": "CYZf3eQbMJ-s",
        "colab_type": "code",
        "colab": {}
      },
      "source": [
        "def test_tweet(tweet):\n",
        "  \n",
        "    tweet_vector = tweet_to_vector(tweet, False)\n",
        "    \n",
        "    positive_prob = model.predict([tweet_vector])[0][1]\n",
        "    \n",
        "    \n",
        "    print('Original tweet: {}'.format(tweet))\n",
        "    print('P(positive) = {:.5f}. Result: '.format(positive_prob), \n",
        "          'Positive' if positive_prob > 0.5 else 'Negative')"
      ],
      "execution_count": 0,
      "outputs": []
    },
    {
      "cell_type": "code",
      "metadata": {
        "id": "7X14m0BQMTll",
        "colab_type": "code",
        "colab": {}
      },
      "source": [
        "def test_tweet_number(idx):\n",
        "    test_tweet(tweets[idx])"
      ],
      "execution_count": 0,
      "outputs": []
    },
    {
      "cell_type": "code",
      "metadata": {
        "id": "SEN8skJoMVR9",
        "colab_type": "code",
        "outputId": "8dc75daa-2a5e-4bf3-c233-30eb43dfa469",
        "colab": {
          "base_uri": "https://localhost:8080/",
          "height": 51
        }
      },
      "source": [
        "test_tweet_number(-1)"
      ],
      "execution_count": 203,
      "outputs": [
        {
          "output_type": "stream",
          "text": [
            "Original tweet: так вот я сижу с идиотской улыбкой на лице...и смотрю 3 сезон)))\n",
            "P(positive) = 0.89691. Result:  Positive\n"
          ],
          "name": "stdout"
        }
      ]
    },
    {
      "cell_type": "markdown",
      "metadata": {
        "id": "bpqrVsT1NsGT",
        "colab_type": "text"
      },
      "source": [
        "##Proba"
      ]
    },
    {
      "cell_type": "code",
      "metadata": {
        "id": "Fpb2TgrJNvCq",
        "colab_type": "code",
        "colab": {}
      },
      "source": [
        "tweets_for_testing = [\n",
        "    \"меня оштрафовали по дороге домой!\",\n",
        "    \"Я люблю мороженое!\",\n",
        "    \"Я не люблю мороженое\",\n",
        "    \"меня обманули\",\n",
        "    \"меня обманули позитив\",\n",
        "    \"меня он очень бесить\",\n",
        "    \"меня он не бесить\",\n",
        "    \"Почему по ночам мне не спится? У машины скрипит колесо. Отразилась луна в ягодице. 10 лет тебе,синяя птица! Жаль,что букв всего лишь сто со\",\n",
        "    \"Смотрите сегодня, в 23:35, сразу после финала #голос6 @voice1tv, на @1tv, большой новогодний выпуск @vecherniy_urgant #вечернийургант! Я, @urgantcom и @lazarevsergey приготовили для вас праздничный новогодний номер!))) #иванургант #сергейлазарев #билан #… http://ift.tt/2zLgzWk \",\n",
        "    \"ШОК! Данилу Козловского задержали в центре Москвы за чтение Шекспира!\",\n",
        "    \"Через час в Петербурге,на улице Рубинштейна,дом 23 откроют памятник Сергею Довлатову.Надеваем халаты,тапочки,берем собак и цветы!\",\n",
        "    \"Спасибо академикам,коллегам и номинантам!Спасибо всей команде ВУ!Спасибо моей семье!И конечно спасибо Вам,дорогие телезрители!#тэфи2016\",\n",
        "    \"А вот и ласточка-новостнуха!24 апреля в Крокусе я поделюсь с Вами инсайтом на Synergy Insight Forum. Приходите что ли! #sif2017\"\n",
        "]\n"
      ],
      "execution_count": 0,
      "outputs": []
    },
    {
      "cell_type": "markdown",
      "metadata": {
        "id": "ow4gg7rO4X5g",
        "colab_type": "text"
      },
      "source": [
        "##NN testiranje"
      ]
    },
    {
      "cell_type": "code",
      "metadata": {
        "id": "VpB2GQ8s4S4r",
        "colab_type": "code",
        "colab": {
          "base_uri": "https://localhost:8080/",
          "height": 700
        },
        "outputId": "562000fb-5788-4be7-91e0-ef2148ad738f"
      },
      "source": [
        "for tweet in tweets_for_testing:\n",
        "    test_tweet(tweet) \n",
        "    print(\"---------\")"
      ],
      "execution_count": 205,
      "outputs": [
        {
          "output_type": "stream",
          "text": [
            "Original tweet: меня оштрафовали по дороге домой!\n",
            "P(positive) = 0.25807. Result:  Negative\n",
            "---------\n",
            "Original tweet: Я люблю мороженое!\n",
            "P(positive) = 0.82409. Result:  Positive\n",
            "---------\n",
            "Original tweet: Я не люблю мороженое\n",
            "P(positive) = 0.82409. Result:  Positive\n",
            "---------\n",
            "Original tweet: меня обманули\n",
            "P(positive) = 0.30835. Result:  Negative\n",
            "---------\n",
            "Original tweet: меня обманули позитив\n",
            "P(positive) = 0.40771. Result:  Negative\n",
            "---------\n",
            "Original tweet: меня он очень бесить\n",
            "P(positive) = 0.09433. Result:  Negative\n",
            "---------\n",
            "Original tweet: меня он не бесить\n",
            "P(positive) = 0.11769. Result:  Negative\n",
            "---------\n",
            "Original tweet: Почему по ночам мне не спится? У машины скрипит колесо. Отразилась луна в ягодице. 10 лет тебе,синяя птица! Жаль,что букв всего лишь сто со\n",
            "P(positive) = 0.20312. Result:  Negative\n",
            "---------\n",
            "Original tweet: Смотрите сегодня, в 23:35, сразу после финала #голос6 @voice1tv, на @1tv, большой новогодний выпуск @vecherniy_urgant #вечернийургант! Я, @urgantcom и @lazarevsergey приготовили для вас праздничный новогодний номер!))) #иванургант #сергейлазарев #билан #… http://ift.tt/2zLgzWk \n",
            "P(positive) = 0.98177. Result:  Positive\n",
            "---------\n",
            "Original tweet: ШОК! Данилу Козловского задержали в центре Москвы за чтение Шекспира!\n",
            "P(positive) = 0.63599. Result:  Positive\n",
            "---------\n",
            "Original tweet: Через час в Петербурге,на улице Рубинштейна,дом 23 откроют памятник Сергею Довлатову.Надеваем халаты,тапочки,берем собак и цветы!\n",
            "P(positive) = 0.92177. Result:  Positive\n",
            "---------\n",
            "Original tweet: Спасибо академикам,коллегам и номинантам!Спасибо всей команде ВУ!Спасибо моей семье!И конечно спасибо Вам,дорогие телезрители!#тэфи2016\n",
            "P(positive) = 0.93951. Result:  Positive\n",
            "---------\n",
            "Original tweet: А вот и ласточка-новостнуха!24 апреля в Крокусе я поделюсь с Вами инсайтом на Synergy Insight Forum. Приходите что ли! #sif2017\n",
            "P(positive) = 0.50352. Result:  Positive\n",
            "---------\n"
          ],
          "name": "stdout"
        }
      ]
    },
    {
      "cell_type": "markdown",
      "metadata": {
        "id": "LFIp11jZ4a9e",
        "colab_type": "text"
      },
      "source": [
        "##RNN testiranje"
      ]
    },
    {
      "cell_type": "code",
      "metadata": {
        "id": "Uq4is1pt4eW1",
        "colab_type": "code",
        "colab": {
          "base_uri": "https://localhost:8080/",
          "height": 238
        },
        "outputId": "c6287338-2666-4a74-82a8-d99d0ac9ab26"
      },
      "source": [
        "tweet_vectors = [0]*len(tweets_for_testing)# = tweet_to_vector1(tweet, False)\n",
        "for i in range(len(tweets_for_testing)):\n",
        "  tweet_vectors[i]=tweet_to_vector1(tweets_for_testing[i])\n",
        "\n",
        "tokens_pad = pad_sequences(tweet_vectors, maxlen=max_tokens,\n",
        "                       padding=pad, truncating=pad)\n",
        "\n",
        "model_rnn.predict(tokens_pad)"
      ],
      "execution_count": 177,
      "outputs": [
        {
          "output_type": "execute_result",
          "data": {
            "text/plain": [
              "array([[0.2563761 ],\n",
              "       [0.71415895],\n",
              "       [0.6430245 ],\n",
              "       [0.25210702],\n",
              "       [0.40163317],\n",
              "       [0.14506781],\n",
              "       [0.16822496],\n",
              "       [0.1695342 ],\n",
              "       [0.87611693],\n",
              "       [0.29174778],\n",
              "       [0.90626216],\n",
              "       [0.92793053],\n",
              "       [0.32408455]], dtype=float32)"
            ]
          },
          "metadata": {
            "tags": []
          },
          "execution_count": 177
        }
      ]
    },
    {
      "cell_type": "markdown",
      "metadata": {
        "id": "86FZ1rwzest5",
        "colab_type": "text"
      },
      "source": [
        "##Custom neuronska mreza"
      ]
    },
    {
      "cell_type": "code",
      "metadata": {
        "id": "MQ2e8HJyex1u",
        "colab_type": "code",
        "colab": {}
      },
      "source": [
        "\n",
        "random.seed(1337)\n",
        "\n",
        "class ComputationalNode(object):\n",
        "\n",
        "    @abstractmethod\n",
        "    def forward(self, x):\n",
        "        pass\n",
        "\n",
        "    @abstractmethod\n",
        "    def backward(self, dz):\n",
        "        pass\n",
        "      \n",
        "class MultiplyNode(ComputationalNode):\n",
        "\n",
        "    def __init__(self):\n",
        "        self.x = [0., 0.]  # x[0] je ulaz, x[1] je tezina\n",
        "\n",
        "    def forward(self, x):\n",
        "        self.x = x\n",
        "        # TODO 1: implementirati forward-pass za mnozac\n",
        "        #raise NotImplementedError('TODO 1')\n",
        "        return self.x[0]*self.x[1]\n",
        "\n",
        "    def backward(self, dz):\n",
        "        # TODO 1: implementirati backward-pass za mnozac\n",
        "        #raise NotImplementedError('TODO 1')\n",
        "        return [dz*self.x[1], dz*self.x[0]]\n",
        "      \n",
        "class SumNode(ComputationalNode):\n",
        "\n",
        "    def __init__(self):\n",
        "        self.x = []  # x je vektor, odnosno niz skalara\n",
        "\n",
        "    def forward(self, x):\n",
        "        self.x = x\n",
        "        # TODO 2: implementirati forward-pass za sabirac\n",
        "        #raise NotImplementedError('TODO 2')\n",
        "        return sum(self.x)\n",
        "\n",
        "    def backward(self, dz):\n",
        "        # TODO 2: implementirati backward-pass za sabirac\n",
        "        #raise NotImplementedError('TODO 2')\n",
        "        return [dz]*len(self.x)\n",
        "      \n"
      ],
      "execution_count": 0,
      "outputs": []
    },
    {
      "cell_type": "code",
      "metadata": {
        "id": "UwnqOe5hfW7D",
        "colab_type": "code",
        "colab": {}
      },
      "source": [
        "class SigmoidNode(ComputationalNode):\n",
        "\n",
        "    def __init__(self):\n",
        "        self.x = 0.  # x je skalar\n",
        "\n",
        "    def forward(self, x):\n",
        "        self.x = x\n",
        "        # TODO 3: implementirati forward-pass za sigmoidalni cvor\n",
        "        #raise NotImplementedError('TODO 3')\n",
        "        return self._sigmoid(self.x)\n",
        "\n",
        "    def backward(self, dz):\n",
        "        # TODO 3: implementirati backward-pass za sigmoidalni cvor\n",
        "        #raise NotImplementedError('TODO 3')\n",
        "        return dz*self._sigmoid(self.x)*(1-self._sigmoid(self.x))\n",
        "\n",
        "    def _sigmoid(self, x):\n",
        "        # TODO 3: implementirati sigmoidalnu funkciju\n",
        "        #raise NotImplementedError('TODO 3')\n",
        "        return 1/(1+math.exp(-x))"
      ],
      "execution_count": 0,
      "outputs": []
    },
    {
      "cell_type": "code",
      "metadata": {
        "id": "L8-xnioWfZ56",
        "colab_type": "code",
        "colab": {}
      },
      "source": [
        "class ReLuNode(ComputationalNode):\n",
        "\n",
        "    def __init__(self):\n",
        "        self.x = 0.  # x je skalar\n",
        "\n",
        "    def forward(self, x):\n",
        "        self.x = x\n",
        "        return self._relu(self.x)\n",
        "\n",
        "    def backward(self, dz):\n",
        "        if self.x > 0.:\n",
        "            return dz*1.\n",
        "        else:\n",
        "            return dz*0.\n",
        "\n",
        "    def _relu(self, x):\n",
        "        return max(0., x)"
      ],
      "execution_count": 0,
      "outputs": []
    },
    {
      "cell_type": "code",
      "metadata": {
        "id": "Xiuy6IyafewY",
        "colab_type": "code",
        "colab": {}
      },
      "source": [
        "class NeuronNode(ComputationalNode):\n",
        "\n",
        "    def __init__(self, n_inputs, activation):\n",
        "        self.n_inputs = n_inputs  # moramo da znamo kolika ima ulaza da bismo znali koliko nam treba mnozaca\n",
        "        self.multiply_nodes = []  # lista mnozaca\n",
        "        self.sum_node = SumNode()  # sabirac\n",
        "\n",
        "        # TODO 4: napraviti n_inputs mnozaca u listi mnozaca, odnosno mnozac za svaki ulaz i njemu odgovarajucu tezinu\n",
        "        # za svaki mnozac inicijalizovati tezinu na broj iz normalne (gauss) raspodele sa st. devijacijom 0.1\n",
        "        for n in range(n_inputs):\n",
        "            mn=MultiplyNode()\n",
        "            mn.x=[1., random.gauss(0., 0.1)]\n",
        "            self.multiply_nodes.append(mn)\n",
        "\n",
        "        # TODO 5: dodati jos jedan mnozac u listi mnozaca, za bias\n",
        "        # bias ulaz je uvek fiksiran na 1.\n",
        "        # bias tezinu inicijalizovati na broj iz normalne (gauss) raspodele sa st. devijacijom 0.01\n",
        "        bias=MultiplyNode()\n",
        "        bias.x=[1., random.gauss(0., 0.01)]\n",
        "        self.multiply_nodes.append(bias)\n",
        "\n",
        "        # TODO 6: ako ulazni parametar funckije 'activation' ima vrednosti 'sigmoid',\n",
        "        # inicijalizovati da aktivaciona funckija bude sigmoidalni cvor\n",
        "        self.activation_node = None\n",
        "        if activation=='sigmoid':\n",
        "            self.activation_node=SigmoidNode()\n",
        "        elif activation=='relu':\n",
        "            self.activation_node=ReLuNode()\n",
        "        self.previous_deltas=[0.]*(self.n_inputs+1)\n",
        "\n",
        "        self.gradients = []\n",
        "\n",
        "    def forward(self, x):  # x je vektor ulaza u neuron, odnosno lista skalara\n",
        "        #x = copy.copy(x)\n",
        "        x=np.append(x, 1.)  # uvek implicitino dodajemo bias=1. kao ulaz\n",
        "\n",
        "        # TODO 7: implementirati forward-pass za vestacki neuron\n",
        "        # u x se nalaze ulazi i bias neurona\n",
        "        # iskoristi forward-pass za mnozace, sabirac i aktivacionu funkciju da bi se dobio konacni izlaz iz neurona\n",
        "        for_sum=[]\n",
        "        for i, xx in enumerate(x):\n",
        "            inp=[x[i], self.multiply_nodes[i].x[1]]\n",
        "            for_sum.append(self.multiply_nodes[i].forward(inp))\n",
        "        summed=self.sum_node.forward(for_sum)\n",
        "        summed_act=self.activation_node.forward(summed)\n",
        "        return summed_act\n",
        "\n",
        "    def backward(self, dz):\n",
        "        dw = []\n",
        "        d = dz[0] if type(dz[0]) == float else sum(dz)  # u d se nalazi spoljasnji gradijent izlaza neurona\n",
        "\n",
        "        # TODO 8: implementirati backward-pass za vestacki neuron\n",
        "        # iskoristiti backward-pass za aktivacionu funkciju, sabirac i mnozace da bi se dobili gradijenti tezina neurona\n",
        "        # izracunate gradijente tezina ubaciti u listu dw\n",
        "        d=self.activation_node.backward(d)\n",
        "        d=self.sum_node.backward(d)\n",
        "        for i, dd in enumerate(d):\n",
        "            dw.append(self.multiply_nodes[i].backward(dd)[1])\n",
        "        self.gradients.append(dw)\n",
        "        return dw\n",
        "\n",
        "    def update_weights(self, learning_rate, momentum):\n",
        "        # azuriranje tezina vestackog neurona\n",
        "        # learning_rate je korak gradijenta\n",
        "\n",
        "        # TODO 11: azurirati tezine neurona (odnosno azurirati drugi parametar svih mnozaca u neuronu)\n",
        "        # gradijenti tezina se nalaze u list self.gradients\n",
        "        #raise NotImplementedError('TODO 11')\n",
        "        for i, multiply_node in enumerate(self.multiply_nodes):\n",
        "            mean_gradient=sum([grad[i] for grad in self.gradients])/len(self.gradients)\n",
        "            delta=learning_rate*mean_gradient+momentum*self.previous_deltas[i]\n",
        "            self.previous_deltas[i]=delta\n",
        "            self.multiply_nodes[i].x[1]-=delta\n",
        "        self.gradients = []  # ciscenje liste gradijenata (da sve bude cisto za sledecu iteraciju)"
      ],
      "execution_count": 0,
      "outputs": []
    },
    {
      "cell_type": "code",
      "metadata": {
        "id": "Ne_rVvOyfiU4",
        "colab_type": "code",
        "colab": {}
      },
      "source": [
        "class NeuralLayer(ComputationalNode):\n",
        "\n",
        "    def __init__(self, n_inputs, n_neurons, activation):\n",
        "        self.n_inputs = n_inputs  # broj ulaza u ovaj sloj neurona\n",
        "        self.n_neurons = n_neurons  # broj neurona u sloju (toliko ce biti i izlaza iz ovog sloja)\n",
        "        self.activation = activation  # aktivaciona funkcija neurona u ovom sloju\n",
        "\n",
        "        self.neurons = []\n",
        "        # konstruisanje sloja nuerona\n",
        "        for _ in range(n_neurons):\n",
        "            neuron = NeuronNode(n_inputs, activation)\n",
        "            self.neurons.append(neuron)\n",
        "\n",
        "    def forward(self, x):  # x je vektor, odnosno lista \"n_inputs\" elemenata\n",
        "        layer_output = []\n",
        "        # forward-pass za sloj neurona je zapravo forward-pass za svaki neuron u sloju nad zadatim ulazom x\n",
        "        for neuron in self.neurons:\n",
        "            neuron_output = neuron.forward(x)\n",
        "            layer_output.append(neuron_output)\n",
        "\n",
        "        return layer_output\n",
        "\n",
        "    def backward(self, dz):  # dz je vektor, odnosno lista \"n_neurons\" elemenata\n",
        "        dd = []\n",
        "        # backward-pass za sloj neurona je zapravo backward-pass za svaki neuron u sloju nad\n",
        "        # zadatim spoljasnjim gradijentima dz\n",
        "        print(dz[0])\n",
        "        print(len(dz))\n",
        "        print(enumerate(self.neurons))\n",
        "        for i, neuron in enumerate(self.neurons):\n",
        "            neuron_dz = [d[i] for d in dz]\n",
        "            neuron_dz = neuron.backward(neuron_dz)\n",
        "            dd.append(neuron_dz[:-1])  # izuzimamo gradijent za bias jer se on ne propagira unazad\n",
        "        return dd\n",
        "\n",
        "    def update_weights(self, learning_rate, momentum):\n",
        "        # azuriranje tezina slojeva neurona je azuriranje tezina svakog neurona u tom sloju\n",
        "        for neuron in self.neurons:\n",
        "            neuron.update_weights(learning_rate, momentum)"
      ],
      "execution_count": 0,
      "outputs": []
    },
    {
      "cell_type": "code",
      "metadata": {
        "id": "XxPyQSIvflv4",
        "colab_type": "code",
        "colab": {}
      },
      "source": [
        "class NeuralNetwork(ComputationalNode):\n",
        "\n",
        "    def __init__(self):\n",
        "        self.layers = []  # neuronska mreza se sastoji od slojeva neurona\n",
        "\n",
        "    def add(self, layer):\n",
        "        self.layers.append(layer)\n",
        "\n",
        "    def forward(self, x):  # x je vektor koji predstavlja ulaz u neuronsku mrezu\n",
        "        # TODO 9: implementirati forward-pass za celu neuronsku mrezu\n",
        "        # ulaz za prvi sloj neurona je x\n",
        "        # ulaz za sve ostale slojeve izlaz iz prethodnog sloja\n",
        "        #raise NotImplementedError('TODO 9')\n",
        "        prev_layer_output=None\n",
        "        for idx, layer in enumerate(self.layers):\n",
        "            if idx==0:\n",
        "                prev_layer_output=layer.forward(x)\n",
        "            else:\n",
        "                prev_layer_output=layer.forward(prev_layer_output)\n",
        "        return prev_layer_output\n",
        "\n",
        "    def backward(self, dz):\n",
        "        # TODO 10: implementirati forward-pass za celu neuronsku mrezu\n",
        "        # spoljasnji gradijent za izlazni sloj neurona je dz\n",
        "        # spoljasnji gradijenti za ostale slojeve su izracunati gradijenti iz sledeceg sloja\n",
        "        #raise NotImplementedError('TODO 10')\n",
        "        next_layer_dz=None\n",
        "        for idx, layer in enumerate(self.layers[::-1]):\n",
        "            if idx==0:\n",
        "                next_layer_dz=layer.backward(dz)\n",
        "            else:\n",
        "                next_layer_dz=layer.backward(next_layer_dz)\n",
        "        return next_layer_dz\n",
        "\n",
        "    def update_weights(self, learning_rate, momentum):\n",
        "        # azuriranje tezina neuronske mreze je azuriranje tezina slojeva\n",
        "        for layer in self.layers:\n",
        "            layer.update_weights(learning_rate, momentum)\n",
        "\n",
        "    def fit(self, X, Y, learning_rate=0.1, momentum=0.0, nb_epochs=10, shuffle=False, verbose=0):\n",
        "        assert len(X) == len(Y)\n",
        "\n",
        "        hist = []  # za plotovanje funkcije greske kroz epohe\n",
        "        for epoch in range(nb_epochs):\n",
        "\n",
        "            if shuffle:  # izmesati podatke\n",
        "                random.seed(epoch)\n",
        "                random.shuffle(X)\n",
        "                random.seed(epoch)\n",
        "                random.shuffle(Y)\n",
        "\n",
        "            total_loss = 0.0\n",
        "            for x, y in zip(X, Y):\n",
        "                y_pred = self.forward(x)  # forward-pass da izracunamo izlaz\n",
        "                y_target = y  # zeljeni izlaz\n",
        "                grad = 0.0\n",
        "                for p, t in zip(y_pred, y_target):\n",
        "                    total_loss += 0.5 * (t - p) ** 2.  # funkcija greske je kvadratna greska\n",
        "                    grad += -(t - p)  # gradijent funkcije greske u odnosu na izlaz\n",
        "                # backward-pass da izracunamo gradijente tezina\n",
        "                self.backward([[grad]])\n",
        "                # azuriranje tezina na osnovu izracunatih gradijenata i koraka \"learning_rate\"\n",
        "                self.update_weights(learning_rate, momentum)\n",
        "\n",
        "            if verbose == 1:\n",
        "                print('Epoch {0}: loss {1}'.format(epoch + 1, total_loss))\n",
        "\n",
        "            hist.append(total_loss)\n",
        "\n",
        "        print('Loss: {0}'.format(total_loss))\n",
        "        return hist\n",
        "\n",
        "    def predict(self, x):\n",
        "        return self.forward(x)"
      ],
      "execution_count": 0,
      "outputs": []
    },
    {
      "cell_type": "markdown",
      "metadata": {
        "id": "fU1189hBgI4m",
        "colab_type": "text"
      },
      "source": [
        "##Model"
      ]
    },
    {
      "cell_type": "code",
      "metadata": {
        "id": "-uRl0PN8n3sJ",
        "colab_type": "code",
        "colab": {}
      },
      "source": [
        ""
      ],
      "execution_count": 0,
      "outputs": []
    },
    {
      "cell_type": "code",
      "metadata": {
        "id": "-FddXtv6frtL",
        "colab_type": "code",
        "colab": {}
      },
      "source": [
        "nn = NeuralNetwork()\n",
        "\n",
        "nn.add(NeuralLayer(VOCAB_SIZE, VOCAB_SIZE, 'relu'))\n",
        "nn.add(NeuralLayer(VOCAB_SIZE, 125, 'relu'))\n",
        "nn.add(NeuralLayer(125, 25, 'relu'))\n",
        "nn.add(NeuralLayer(25, 2, 'relu'))\n",
        "print(train_vectors)\n",
        "history = nn.fit(train_vectors, y_train, learning_rate=0.75, nb_epochs=3, shuffle=True)"
      ],
      "execution_count": 0,
      "outputs": []
    },
    {
      "cell_type": "code",
      "metadata": {
        "id": "uOXaQ2o_noZF",
        "colab_type": "code",
        "colab": {}
      },
      "source": [
        "del nn"
      ],
      "execution_count": 0,
      "outputs": []
    }
  ]
}